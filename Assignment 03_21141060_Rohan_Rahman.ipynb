{
  "nbformat": 4,
  "nbformat_minor": 0,
  "metadata": {
    "colab": {
      "name": "21141060_Rohan_Rahman_04_CSE111_Lab_Assignmen3.ipynb",
      "provenance": [],
      "collapsed_sections": []
    },
    "kernelspec": {
      "name": "python3",
      "display_name": "Python 3"
    },
    "language_info": {
      "name": "python"
    }
  },
  "cells": [
    {
      "cell_type": "code",
      "metadata": {
        "id": "8T9Hb-KxPw5e"
      },
      "source": [
        "#ID: 21141060\n",
        "#Section: 04\n",
        "#Name: Rohan Rahman\n",
        "#Assignment: 3"
      ],
      "execution_count": null,
      "outputs": []
    },
    {
      "cell_type": "code",
      "metadata": {
        "colab": {
          "base_uri": "https://localhost:8080/"
        },
        "id": "iQdufeOhP2as",
        "outputId": "4e5d5202-dcf2-4a89-aa9a-acea0e2485e7"
      },
      "source": [
        "#Task 1\n",
        "\n",
        "class DataType:\n",
        "    def __init__(self,name,value):\n",
        "        self.name = name\n",
        "        self.value = value\n",
        "\n",
        "\n",
        "data_type1 = DataType('Integer', 1234)\n",
        "print(data_type1.name)\n",
        "print(data_type1.value)\n",
        "print('=====================')\n",
        "data_type2 = DataType('String', 'Hello')\n",
        "print(data_type2.name)\n",
        "print(data_type2.value)\n",
        "print('=====================')\n",
        "data_type3 = DataType('Float', 4.0)\n",
        "print(data_type3.name)\n",
        "print(data_type3.value)"
      ],
      "execution_count": null,
      "outputs": [
        {
          "output_type": "stream",
          "text": [
            "Integer\n",
            "1234\n",
            "=====================\n",
            "String\n",
            "Hello\n",
            "=====================\n",
            "Float\n",
            "4.0\n"
          ],
          "name": "stdout"
        }
      ]
    },
    {
      "cell_type": "code",
      "metadata": {
        "colab": {
          "base_uri": "https://localhost:8080/"
        },
        "id": "TSoSjxfqUS-l",
        "outputId": "f02ed7c1-a272-42e3-fd4a-38e833ed9100"
      },
      "source": [
        "#Task 2\n",
        "\n",
        "\n",
        "class Flower():\n",
        "    pass\n",
        "\n",
        "\n",
        "\n",
        "flower1 = Flower()\n",
        "flower1.name=\"Rose\"\n",
        "flower1.color=\"Red\"\n",
        "flower1.num_of_petal=6\n",
        "print(\"Name of this flower:\", flower1.name)\n",
        "print(\"Color of this flower:\",flower1.color)\n",
        "print(\"Number of petal:\",flower1.num_of_petal)\n",
        "print('=====================')\n",
        "flower2 = Flower()\n",
        "flower2.name=\"Orchid\"\n",
        "flower2.color=\"Purple\"\n",
        "flower2.num_of_petal=4\n",
        "print(\"Name of this flower:\",flower2.name)\n",
        "print(\"Color of this flower:\",flower2.color)\n",
        "print (\"Number of petal:\",flower2. num_of_petal)\n",
        "print('=====================')\n",
        "\n",
        "print(id(flower2))\n",
        "print(id(flower1))\n",
        "\n",
        "if id(flower2)==id(flower1):\n",
        "    print('They are same')\n",
        "else:\n",
        "    print('They are different')\n",
        "\n"
      ],
      "execution_count": null,
      "outputs": [
        {
          "output_type": "stream",
          "text": [
            "Name of this flower: Rose\n",
            "Color of this flower: Red\n",
            "Number of petal: 6\n",
            "=====================\n",
            "Name of this flower: Orchid\n",
            "Color of this flower: Purple\n",
            "Number of petal: 4\n",
            "=====================\n",
            "139886692249104\n",
            "139886692248976\n",
            "They are different\n"
          ],
          "name": "stdout"
        }
      ]
    },
    {
      "cell_type": "code",
      "metadata": {
        "colab": {
          "base_uri": "https://localhost:8080/"
        },
        "id": "Et17af2sAf_f",
        "outputId": "89bafba3-63ea-4697-c37e-f4c23c73fe88"
      },
      "source": [
        "#Task 3\n",
        "\n",
        "class Wadiya():\n",
        "    def __init__(self):\n",
        "        self.name = 'Aladeen'\n",
        "        self.designation = 'President Prime Minister Admiral General'\n",
        "        self.num_of_wife = 100\n",
        "        self.dictator = True\n",
        "\n",
        "    def set_name(self,name):\n",
        "        self.name = name\n",
        "    def set_designation(self,designation):\n",
        "        self.designation = designation\n",
        "    def set_num_of_wife(self,num_of_wife):\n",
        "        self.num_of_wife = num_of_wife\n",
        "    def set_dictator(self,dictator):\n",
        "        self.dictator = dictator\n",
        "\n",
        "\n",
        "wadiya = Wadiya()\n",
        "\n",
        "print('Part 1')\n",
        "print('Name of Presidente is:', wadiya.name)\n",
        "print('Designation:', wadiya.designation)\n",
        "print('Number of wife:', wadiya.num_of_wife)\n",
        "print('Is he/she a dictator:', wadiya.dictator)\n",
        "\n",
        "wadiya.set_name('Donald Trump')\n",
        "wadiya.set_designation('President')\n",
        "wadiya.set_num_of_wife(1)\n",
        "wadiya.set_dictator(False)\n",
        "\n",
        "print('Part 2')\n",
        "print('Name of Presidente is:', wadiya.name)\n",
        "print('Designation:', wadiya.designation)\n",
        "print('Number of wife:', wadiya.num_of_wife)\n",
        "print('Is he/she a dictator:', wadiya.dictator)\n",
        "\n",
        "print('\\n')\n",
        "print('No, changing had no effect on previous value')"
      ],
      "execution_count": null,
      "outputs": [
        {
          "output_type": "stream",
          "text": [
            "Part 1\n",
            "Name of Presidente is: Aladeen\n",
            "Designation: President Prime Minister Admiral General\n",
            "Number of wife: 100\n",
            "Is he/she a dictator: True\n",
            "Part 2\n",
            "Name of Presidente is: Donald Trump\n",
            "Designation: President\n",
            "Number of wife: 1\n",
            "Is he/she a dictator: False\n",
            "\n",
            "\n",
            "No, changing had no effect on previous value\n"
          ],
          "name": "stdout"
        }
      ]
    },
    {
      "cell_type": "code",
      "metadata": {
        "id": "fYDtOPjopi7L",
        "colab": {
          "base_uri": "https://localhost:8080/"
        },
        "outputId": "1150d1e5-67f0-420f-fe0a-7fe4b5955d84"
      },
      "source": [
        "#Task 4\n",
        "class Joker:\n",
        "    def __init__(self,name,power,is_he_psycho):\n",
        "        self.name = name\n",
        "        self.power = power\n",
        "        self.is_he_psycho = is_he_psycho\n",
        "\n",
        "j1 = Joker('Heath Ledger', 'Mind Game', False)\n",
        "print(j1.name)\n",
        "print(j1.power)\n",
        "print(j1.is_he_psycho)\n",
        "print('=====================')\n",
        "j2 = Joker('Joaquin Phoenix', 'Laughing out Loud', True)\n",
        "print(j2.name)\n",
        "print(j2.power)\n",
        "print(j2.is_he_psycho)\n",
        "print('=====================')\n",
        "if j1 == j2:\n",
        " print('same')\n",
        "else:\n",
        " print('different')\n",
        "j2.name = 'Heath Ledger'\n",
        "if j1.name == j2.name:\n",
        " print('same')\n",
        "else:\n",
        " print('different')\n",
        "\n",
        "print('#2 Ans: The name variable in object j1 is different from j2 during this first if/else block so it printed \"different\".')\n",
        "\n",
        "print('#3 Ans: The name variable of object j2 was changed to the same name variable as object j1 before the second if/else'\n",
        "      '\\n block. Thus the result was printed as \"same\" since the object names were the same between the two objects.'\n",
        "      '\\n we can see this by printing j2.name below'\n",
        "      '\\n',j2.name)"
      ],
      "execution_count": null,
      "outputs": [
        {
          "output_type": "stream",
          "text": [
            "Heath Ledger\n",
            "Mind Game\n",
            "False\n",
            "=====================\n",
            "Joaquin Phoenix\n",
            "Laughing out Loud\n",
            "True\n",
            "=====================\n",
            "different\n",
            "same\n",
            "#2 Ans: The name variable in object j1 is different from j2 during this first if/else block so it printed \"different\".\n",
            "#3 Ans: The name variable of object j2 was changed to the same name variable as object j1 before the second if/else\n",
            " block. Thus the result was printed as \"same\" since the object names were the same between the two objects.\n",
            " we can see this by printing j2.name below\n",
            " Heath Ledger\n"
          ],
          "name": "stdout"
        }
      ]
    },
    {
      "cell_type": "code",
      "metadata": {
        "colab": {
          "base_uri": "https://localhost:8080/"
        },
        "id": "2hFGMy8Lrieg",
        "outputId": "c1d23b72-2edf-4f76-a8b6-fb30a8384cba"
      },
      "source": [
        "#Task 5\n",
        "\n",
        "class Pokemon:\n",
        "    def __init__(self,pokemon1_name,pokemon2_name,pokemon1_power,pokemon2_power,damage_rate):\n",
        "        self.pokemon1_name = pokemon1_name\n",
        "        self.pokemon2_name = pokemon2_name\n",
        "        self.pokemon1_power = pokemon1_power\n",
        "        self.pokemon2_power = pokemon2_power\n",
        "        self.damage_rate = damage_rate\n",
        "\n",
        "team_pika = Pokemon('pikachu', 'charmander', 90, 60, 10)\n",
        "print('=======Team 1=======')\n",
        "print('Pokemon 1:',team_pika.pokemon1_name,\n",
        "team_pika.pokemon1_power)\n",
        "print('Pokemon 2:',team_pika.pokemon2_name,\n",
        "team_pika.pokemon2_power)\n",
        "pika_combined_power = (team_pika.pokemon1_power +\n",
        "team_pika.pokemon2_power) * team_pika.damage_rate\n",
        "print('Combined Power:', pika_combined_power)\n",
        "\n",
        "team_bulb = Pokemon('bulbasaur', 'squirtle', 80, 70, 9)\n",
        "print('=======Team 2=======')\n",
        "print('Pokemon 1:',team_bulb.pokemon1_name,\n",
        "team_bulb.pokemon1_power)\n",
        "print('Pokemon 2:',team_bulb.pokemon2_name,\n",
        "team_bulb.pokemon2_power)\n",
        "bulb_combined_power = (team_bulb.pokemon1_power +\n",
        "team_bulb.pokemon2_power) * team_bulb.damage_rate\n",
        "print('Combined Power:', bulb_combined_power)"
      ],
      "execution_count": 1,
      "outputs": [
        {
          "output_type": "stream",
          "text": [
            "=======Team 1=======\n",
            "Pokemon 1: pikachu 90\n",
            "Pokemon 2: charmander 60\n",
            "Combined Power: 1500\n",
            "=======Team 2=======\n",
            "Pokemon 1: bulbasaur 80\n",
            "Pokemon 2: squirtle 70\n",
            "Combined Power: 1350\n"
          ],
          "name": "stdout"
        }
      ]
    },
    {
      "cell_type": "code",
      "metadata": {
        "colab": {
          "base_uri": "https://localhost:8080/"
        },
        "id": "fgBnlGokLGBF",
        "outputId": "c14c78be-279a-4258-f60b-2cc4d8a9ea6e"
      },
      "source": [
        "#Task 6\n",
        "\n",
        "class Player:\n",
        "    pass\n",
        "\n",
        "\n",
        "player1 = Player()\n",
        "player1.name = \"Ronaldo\"\n",
        "player1.jersy_number = 9\n",
        "player1.position = \"Striker\"\n",
        "print(\"Name of the Player:\", player1.name)\n",
        "print(\"Jersey Number of player:\", player1.jersy_number)\n",
        "print(\"Position of player:\", player1.position)\n",
        "print('===========================')\n",
        "player2 = Player()\n",
        "player2.name = \"Neuer\"\n",
        "player2.jersy_number = 1\n",
        "player2.position = \"Goal Keeper\"\n",
        "print(\"Name of the player:\", player2.name)\n",
        "print(\"Jersey Number of player:\", player2.jersy_number)\n",
        "print(\"Position of player:\", player2.position)"
      ],
      "execution_count": 3,
      "outputs": [
        {
          "output_type": "stream",
          "text": [
            "Name of the Player: Ronaldo\n",
            "Jersey Number of player: 9\n",
            "Position of player: Striker\n",
            "===========================\n",
            "Name of the player: Neuer\n",
            "Jersey Number of player: 1\n",
            "Position of player: Goal Keeper\n"
          ],
          "name": "stdout"
        }
      ]
    },
    {
      "cell_type": "code",
      "metadata": {
        "colab": {
          "base_uri": "https://localhost:8080/"
        },
        "id": "KdSSDP9eRbzd",
        "outputId": "f8447191-562f-4aa9-a6b9-51c407b1b1bb"
      },
      "source": [
        "#Task 7\n",
        "\n",
        "class Country:\n",
        "    def __init__(self,name ='Bangladesh',continent = 'Asia',capital = 'Dhaka',fifa_ranking='187'):\n",
        "        self.name = name\n",
        "        self.continent = continent\n",
        "        self.capital = capital\n",
        "        self.fifa_ranking = fifa_ranking\n",
        "\n",
        "\n",
        "country = Country()\n",
        "print('Name:',country.name)\n",
        "print('Continent:',country.continent)\n",
        "print('Capital:',country.capital)\n",
        "print('Fifa Ranking:',country.fifa_ranking)\n",
        "print('===================')\n",
        "country.name = 'Belgium'\n",
        "country.continent = 'Europe'\n",
        "country.capital = 'Brussels'\n",
        "country.fifa_ranking = 1\n",
        "print('Name:', country.name)\n",
        "print('Continent:', country.continent)\n",
        "print('Capital:', country.capital)\n",
        "print('Fifa Ranking:', country.fifa_ranking)"
      ],
      "execution_count": 4,
      "outputs": [
        {
          "output_type": "stream",
          "text": [
            "Name: Bangladesh\n",
            "Continent: Asia\n",
            "Capital: Dhaka\n",
            "Fifa Ranking: 187\n",
            "===================\n",
            "Name: Belgium\n",
            "Continent: Europe\n",
            "Capital: Brussels\n",
            "Fifa Ranking: 1\n"
          ],
          "name": "stdout"
        }
      ]
    },
    {
      "cell_type": "code",
      "metadata": {
        "colab": {
          "base_uri": "https://localhost:8080/"
        },
        "id": "KpMXFrj5URO8",
        "outputId": "20a6e36e-1cf0-4754-e6bf-2b06dfb4300b"
      },
      "source": [
        "#Task 8\n",
        "\n",
        "class DemonSlayer:\n",
        "    def __init__(self,name,style,number_of_technique,kill):\n",
        "        self.name = name\n",
        "        self.style = style\n",
        "        self.number_of_technique = number_of_technique\n",
        "        self.kill = kill\n",
        "\n",
        "tanjiro = DemonSlayer(\"Tanjiro\", \"Water Breathing\", 10, 10)\n",
        "print('Name:',tanjiro.name)\n",
        "print('Fighting Style:',tanjiro.style)\n",
        "print(f'Knows {tanjiro.number_of_technique} technique(s) and has killed {tanjiro.kill} demon(s)')\n",
        "print('===================')\n",
        "zenitsu = DemonSlayer(\"Zenitsu\", \"Thunder Breathing\", 1, 4)\n",
        "print('Name:',zenitsu.name)\n",
        "print('Fighting Style:',zenitsu.style)\n",
        "print(f'Knows {zenitsu.number_of_technique} technique(s) and has killed {zenitsu.kill} demon(s)')\n",
        "print('===================')\n",
        "inosuke = DemonSlayer(\"Inosuke\", \"Beast Breathing\", 5, 7)\n",
        "print('Name:',inosuke.name)\n",
        "print('Fighting Style:',inosuke.style)\n",
        "print(f'Knows {inosuke.number_of_technique} technique(s) and has killed {inosuke.kill} demon(s)')\n",
        "print('===================')\n",
        "print(f'{tanjiro.name}, {zenitsu.name}, {inosuke.name} knows total {tanjiro.number_of_technique + zenitsu.number_of_technique + inosuke.number_of_technique} techniques')\n",
        "print(f'They have killed total {tanjiro.kill + zenitsu.kill + inosuke.kill} demons')"
      ],
      "execution_count": 5,
      "outputs": [
        {
          "output_type": "stream",
          "text": [
            "Name: Tanjiro\n",
            "Fighting Style: Water Breathing\n",
            "Knows 10 technique(s) and has killed 10 demon(s)\n",
            "===================\n",
            "Name: Zenitsu\n",
            "Fighting Style: Thunder Breathing\n",
            "Knows 1 technique(s) and has killed 4 demon(s)\n",
            "===================\n",
            "Name: Inosuke\n",
            "Fighting Style: Beast Breathing\n",
            "Knows 5 technique(s) and has killed 7 demon(s)\n",
            "===================\n",
            "Tanjiro, Zenitsu, Inosuke knows total 16 techniques\n",
            "They have killed total 21 demons\n"
          ],
          "name": "stdout"
        }
      ]
    }
  ]
}