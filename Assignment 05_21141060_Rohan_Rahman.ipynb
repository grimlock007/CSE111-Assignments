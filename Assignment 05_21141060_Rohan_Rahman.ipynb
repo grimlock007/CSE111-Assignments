{
  "nbformat": 4,
  "nbformat_minor": 0,
  "metadata": {
    "colab": {
      "name": "21141060_Rohan_Rahman_04_CSE111_Lab_Assignment5.ipynb",
      "provenance": [],
      "collapsed_sections": []
    },
    "kernelspec": {
      "name": "python3",
      "display_name": "Python 3"
    },
    "language_info": {
      "name": "python"
    }
  },
  "cells": [
    {
      "cell_type": "code",
      "metadata": {
        "id": "3J1RUBr5ezRd"
      },
      "source": [
        "#ID: 21141060\n",
        "#Section: 04\n",
        "#Name: Rohan Rahman\n",
        "#Assignment: 5"
      ],
      "execution_count": null,
      "outputs": []
    },
    {
      "cell_type": "code",
      "metadata": {
        "colab": {
          "base_uri": "https://localhost:8080/"
        },
        "id": "xErgoM29e0P2",
        "outputId": "c4a12e27-5f74-4799-f393-8324828e3dc5"
      },
      "source": [
        "#Task 1 \n",
        "\n",
        "\n",
        "class Marks:\n",
        "    def __init__(self,mark):\n",
        "        self.mark = mark\n",
        "    def __add__(self, other):\n",
        "          obj =  Marks(self.mark + other.mark)\n",
        "          return obj\n",
        "        \n",
        "\n",
        "Q1 = Marks(int(input(\"Quiz 1 (out of 10): \")))\n",
        "Q2 = Marks(int(input(\"Quiz 2 (out of 10): \")))\n",
        "Lab = Marks(int(input(\"Lab (out of 30): \")))\n",
        "Mid = Marks(int(input(\"Mid (out of 20): \")))\n",
        "Final = Marks(int(input(\"Final (out of 30): \")))\n",
        "total = Q1 + Q2 + Lab + Mid + Final\n",
        "print(\"Total marks: {}\".format(total.mark))"
      ],
      "execution_count": null,
      "outputs": [
        {
          "output_type": "stream",
          "text": [
            "Quiz 1 (out of 10): 10\n",
            "Quiz 2 (out of 10): 10\n",
            "Lab (out of 30): 30\n",
            "Mid (out of 20): 20\n",
            "Final (out of 30): 30\n",
            "Total marks: 100\n"
          ],
          "name": "stdout"
        }
      ]
    },
    {
      "cell_type": "code",
      "metadata": {
        "colab": {
          "base_uri": "https://localhost:8080/"
        },
        "id": "2GNJ5BMM5d0u",
        "outputId": "07b77c32-952b-4c9c-9c01-01fccb2778ba"
      },
      "source": [
        "#Task 2\n",
        "\n",
        "class Teacher:\n",
        "    def __init__(self,name,department):\n",
        "        self.__name = name\n",
        "        self.__department = department\n",
        "        self.__course = []\n",
        "    def addCourse(self,*args):\n",
        "        for i in args:\n",
        "            self.__course.append(i)\n",
        "    def printDetail(self):\n",
        "        print('==============================')\n",
        "        print(f'Name: {self.__name} \\nDepartment: {self.__department} \\nList of courses')\n",
        "        print('==============================')\n",
        "\n",
        "        for i in self.__course:\n",
        "            print(i.title)\n",
        "\n",
        "\n",
        "\n",
        "class Course:\n",
        "    def __init__(self,title):\n",
        "        self.title = title\n",
        "\n",
        "\n",
        "t1 = Teacher(\"Saad Abdullah\", \"CSE\")\n",
        "t2 = Teacher(\"Mumit Khan\", \"CSE\")\n",
        "t3 = Teacher(\"Sadia Kazi\", \"CSE\")\n",
        "c1 = Course(\"CSE 110 Programming Language I\")\n",
        "c2 = Course(\"CSE 111 Programming Language-II\")\n",
        "c3 = Course(\"CSE 220 Data Structures\")\n",
        "c4 = Course(\"CSE 221 Algorithms\")\n",
        "c5 = Course(\"CCSE 230 Discrete Mathematics\")\n",
        "c6 = Course(\"CSE 310 Object Oriented Programming\")\n",
        "c7 = Course(\"CSE 320 Data Communications\")\n",
        "c8 = Course(\"CSE 340 Computer Architecture\")\n",
        "t1.addCourse(c1)\n",
        "t1.addCourse(c2)\n",
        "t2.addCourse(c3)\n",
        "t2.addCourse(c4)\n",
        "t2.addCourse(c5)\n",
        "t3.addCourse(c6)\n",
        "t3.addCourse(c7)\n",
        "t3.addCourse(c8)\n",
        "t1.printDetail()\n",
        "t2.printDetail()\n",
        "t3.printDetail()"
      ],
      "execution_count": 4,
      "outputs": [
        {
          "output_type": "stream",
          "text": [
            "==============================\n",
            "Name: Saad Abdullah \n",
            "Department: CSE \n",
            "List of courses\n",
            "==============================\n",
            "CSE 110 Programming Language I\n",
            "CSE 111 Programming Language-II\n",
            "==============================\n",
            "Name: Mumit Khan \n",
            "Department: CSE \n",
            "List of courses\n",
            "==============================\n",
            "CSE 220 Data Structures\n",
            "CSE 221 Algorithms\n",
            "CCSE 230 Discrete Mathematics\n",
            "==============================\n",
            "Name: Sadia Kazi \n",
            "Department: CSE \n",
            "List of courses\n",
            "==============================\n",
            "CSE 310 Object Oriented Programming\n",
            "CSE 320 Data Communications\n",
            "CSE 340 Computer Architecture\n"
          ],
          "name": "stdout"
        }
      ]
    },
    {
      "cell_type": "code",
      "metadata": {
        "colab": {
          "base_uri": "https://localhost:8080/"
        },
        "id": "5LlTyM46QMZV",
        "outputId": "4906fafc-3e5d-4af6-f8b0-27a89382c903"
      },
      "source": [
        "#Task 3\n",
        "\n",
        "class Team:\n",
        "    def __init__(self, name = None):\n",
        "        self.__name = name\n",
        "        self.__player = []\n",
        "\n",
        "    def setName(self,name):\n",
        "        self.__name = name\n",
        "    def addPlayer(self,player):\n",
        "        self.__player.append(player.x)\n",
        "\n",
        "    def printDetail(self):\n",
        "        print(\"======================\")\n",
        "        print(f\"Team: {self.__name}\")\n",
        "        print(\"List of Player:\")\n",
        "        print(self.__player)\n",
        "\n",
        "\n",
        "\n",
        "class Player:\n",
        "    def __init__(self,x):\n",
        "        self.x = x\n",
        "\n",
        "\n",
        "b = Team()\n",
        "b.setName('Bangladesh')\n",
        "mashrafi = Player(\"Mashrafi\")\n",
        "b.addPlayer(mashrafi)\n",
        "tamim = Player(\"Tamim\")\n",
        "b.addPlayer(tamim)\n",
        "b.printDetail()\n",
        "a = Team(\"Australia\")\n",
        "ponting = Player(\"Ponting\")\n",
        "a.addPlayer(ponting)\n",
        "lee = Player(\"Lee\")\n",
        "a.addPlayer(lee)\n",
        "a.printDetail()"
      ],
      "execution_count": null,
      "outputs": [
        {
          "output_type": "stream",
          "text": [
            "======================\n",
            "Team: Bangladesh\n",
            "List of Player:\n",
            "['Mashrafi', 'Tamim']\n",
            "======================\n",
            "Team: Australia\n",
            "List of Player:\n",
            "['Ponting', 'Lee']\n"
          ],
          "name": "stdout"
        }
      ]
    },
    {
      "cell_type": "code",
      "metadata": {
        "id": "Ei5y0B9C4NFM",
        "colab": {
          "base_uri": "https://localhost:8080/"
        },
        "outputId": "d80390a3-7825-4eb5-9441-010045ffbe86"
      },
      "source": [
        "#Task 4\n",
        "\n",
        "class Color:\n",
        "    def __init__(self, clr):\n",
        "        self.clr = clr\n",
        "\n",
        "    def __add__(self, other):\n",
        "        color = self.clr + other.clr\n",
        "        if color == 'redyellow' or color == 'yellowred':\n",
        "            return Color(\"Orange\")\n",
        "        if color == 'redblue' or color == 'bluered':\n",
        "            return Color(\"Violet\")\n",
        "        if color == 'yellowblue' or color == 'blueyellow':\n",
        "            return Color(\"Green\")\n",
        "\n",
        "C1 = Color(input(\"First Color: \").lower())\n",
        "C2 = Color(input(\"Second Color: \").lower())\n",
        "C3 = C1 + C2\n",
        "print(\"Color formed:\", C3.clr)\n"
      ],
      "execution_count": null,
      "outputs": [
        {
          "output_type": "stream",
          "text": [
            "First Color: Red\n",
            "Second Color: YELLOW\n",
            "Color formed: Orange\n"
          ],
          "name": "stdout"
        }
      ]
    },
    {
      "cell_type": "code",
      "metadata": {
        "colab": {
          "base_uri": "https://localhost:8080/"
        },
        "id": "MCYdy0dAwxer",
        "outputId": "eb4325a4-a377-4eed-a8eb-cc854251f741"
      },
      "source": [
        "#Task 5\n",
        "\n",
        "class Circle:\n",
        "    def __init__(self,rad):\n",
        "        self.__rad = rad\n",
        "\n",
        "    def getRadius(self):\n",
        "        self.red = self.__rad\n",
        "        return self.red\n",
        "\n",
        "    def area(self):\n",
        "        a = 3.14159265359*(self.__rad**2)\n",
        "        return a\n",
        "    def __add__(self, other):\n",
        "        total = self.__rad + other.__rad\n",
        "\n",
        "        return Circle(total)\n",
        "\n",
        "\n",
        "c1 = Circle(4)\n",
        "print(\"First circle radius:\" , c1.getRadius())\n",
        "print(\"First circle area:\" ,c1.area())\n",
        "c2 = Circle(5)\n",
        "print(\"Second circle radius:\" ,c2.getRadius())\n",
        "print(\"Second circle area:\" ,c2.area())\n",
        "c3 = c1 + c2\n",
        "print(\"Third circle radius:\" ,c3.getRadius())\n",
        "print(\"Third circle area:\" ,c3.area())"
      ],
      "execution_count": 2,
      "outputs": [
        {
          "output_type": "stream",
          "text": [
            "First circle radius: 4\n",
            "First circle area: 50.26548245744\n",
            "Second circle radius: 5\n",
            "Second circle area: 78.53981633975\n",
            "Third circle radius: 9\n",
            "Third circle area: 254.46900494079\n"
          ],
          "name": "stdout"
        }
      ]
    },
    {
      "cell_type": "code",
      "metadata": {
        "colab": {
          "base_uri": "https://localhost:8080/"
        },
        "id": "W1mDllJgy6He",
        "outputId": "4d5ed9e8-0f67-4291-83a5-0c59498baac7"
      },
      "source": [
        "#Task 6 \n",
        "\n",
        "class Triangle:\n",
        "    def __init__(self,b,h):\n",
        "        self.__b = b\n",
        "        self.__h = h\n",
        "\n",
        "    def getBase(self):\n",
        "        self.base = self.__b\n",
        "        return self.base\n",
        "    def getHeight(self):\n",
        "        self.height = self.__h\n",
        "        return self.height\n",
        "\n",
        "    def area(self):\n",
        "        a = 0.5*(self.__b*self.__h)\n",
        "        return a\n",
        "    def __sub__(self, other):\n",
        "        ba = self.__b - other.__b\n",
        "        he = self.__h - other.__h\n",
        "\n",
        "\n",
        "        return Triangle(ba,he)\n",
        "\n",
        "\n",
        "t1 = Triangle(10, 5)\n",
        "print(\"First Triangle Base:\" , t1.getBase())\n",
        "print(\"First Triangle Height:\" , t1.getHeight())\n",
        "print(\"First Triangle area:\" ,t1.area())\n",
        "t2 = Triangle(5, 3)\n",
        "print(\"Second Triangle Base:\" , t2.getBase())\n",
        "print(\"Second Triangle Height:\" , t2.getHeight())\n",
        "print(\"Second Triangle area:\" ,t2.area())\n",
        "t3 = t1 - t2\n",
        "print(\"Third Triangle Base:\" , t3.getBase())\n",
        "print(\"Third Triangle Height:\" , t3.getHeight())\n",
        "print(\"Third Triangle area:\" ,t3.area())"
      ],
      "execution_count": 3,
      "outputs": [
        {
          "output_type": "stream",
          "text": [
            "First Triangle Base: 10\n",
            "First Triangle Height: 5\n",
            "First Triangle area: 25.0\n",
            "Second Triangle Base: 5\n",
            "Second Triangle Height: 3\n",
            "Second Triangle area: 7.5\n",
            "Third Triangle Base: 5\n",
            "Third Triangle Height: 2\n",
            "Third Triangle area: 5.0\n"
          ],
          "name": "stdout"
        }
      ]
    },
    {
      "cell_type": "code",
      "metadata": {
        "colab": {
          "base_uri": "https://localhost:8080/"
        },
        "id": "ZyTuRHcr323F",
        "outputId": "9b92a7cd-2146-4dfa-ddbe-f127d4e5f487"
      },
      "source": [
        "#Task 7\n",
        "\n",
        "class Dolls:\n",
        "    def __init__(self,name,price):\n",
        "        self.__name = name\n",
        "        self.__price = price\n",
        "    def detail(self):\n",
        "        print(f'Name: {self.__name}')\n",
        "        print(f'Price: {self.__price}')\n",
        "    def __add__(self, other):\n",
        "        obj = self.__price + other.__price\n",
        "        return Dolls(self.__name,obj)\n",
        "    def __gt__(self, other):\n",
        "        if (self.__price > other.__price):\n",
        "            return True\n",
        "        else:\n",
        "            return False\n",
        "\n",
        "\n",
        "\n",
        "obj_1 = Dolls(\"Tweety\", 2500)\n",
        "print(obj_1.detail())\n",
        "if obj_1 > obj_1:\n",
        " print(\"Congratulations! You get the Tweety as a gift!\")\n",
        "else:\n",
        " print(\"Thank you!\")\n",
        "print(\"=========================\")\n",
        "obj_2 = Dolls(\"Daffy Duck\", 1800)\n",
        "print(obj_2.detail())\n",
        "if obj_2 > obj_1:\n",
        " print(\"Congratulations! You get the Tweety as a gift!\")\n",
        "else:\n",
        " print(\"Thank you!\")\n",
        "print(\"=========================\")\n",
        "obj_3 = Dolls(\"Bugs Bunny\", 3000)\n",
        "print(obj_3.detail())\n",
        "if obj_3 > obj_1:\n",
        " print(\"Congratulations! You get the Tweety as a gift!\")\n",
        "else:\n",
        " print(\"Thank you!\")\n",
        "print(\"=========================\")\n",
        "obj_4 = Dolls(\"Porky Pig\", 1500)\n",
        "print(obj_4.detail())\n",
        "if obj_4 > obj_1:\n",
        " print(\"Congratulations! You get the Tweety as a gift!\")\n",
        "else:\n",
        " print(\"Thank you!\")\n",
        "print(\"=========================\")\n",
        "obj_5 = obj_2 + obj_3\n",
        "print(obj_5.detail())\n",
        "if obj_5 > obj_1:\n",
        " print(\"Congratulations! You get the Tweety as a gift!\")\n",
        "else:\n",
        " print(\"Thank you!\")"
      ],
      "execution_count": 1,
      "outputs": [
        {
          "output_type": "stream",
          "text": [
            "Name: Tweety\n",
            "Price: 2500\n",
            "None\n",
            "Thank you!\n",
            "=========================\n",
            "Name: Daffy Duck\n",
            "Price: 1800\n",
            "None\n",
            "Thank you!\n",
            "=========================\n",
            "Name: Bugs Bunny\n",
            "Price: 3000\n",
            "None\n",
            "Congratulations! You get the Tweety as a gift!\n",
            "=========================\n",
            "Name: Porky Pig\n",
            "Price: 1500\n",
            "None\n",
            "Thank you!\n",
            "=========================\n",
            "Name: Daffy Duck\n",
            "Price: 4800\n",
            "None\n",
            "Congratulations! You get the Tweety as a gift!\n"
          ],
          "name": "stdout"
        }
      ]
    },
    {
      "cell_type": "code",
      "metadata": {
        "colab": {
          "base_uri": "https://localhost:8080/"
        },
        "id": "k7tkDc__4DNq",
        "outputId": "f2626090-53ed-43a9-e836-7a62b039c63e"
      },
      "source": [
        "#Task 8\n",
        "\n",
        "class Coordinates:\n",
        "    def __init__(self,x,y):\n",
        "        self.x = x\n",
        "        self.y = y\n",
        "\n",
        "    def __sub__(self, other):\n",
        "        totalx = self.x - other.x\n",
        "        totaly = self.y - other.y\n",
        "        return Coordinates(totalx,totaly)\n",
        "\n",
        "    def __mul__(self, other):\n",
        "        totalx = self.x * other.x\n",
        "        totaly = self.y * other.y\n",
        "        return Coordinates(totalx,totaly)\n",
        "    def __eq__(self, other):\n",
        "        if self.x==other.x and self.y==other.y:\n",
        "            return \"The calculated coordinates are the same.\"\n",
        "        else:\n",
        "            return \"The calculated coordinates are NOT the same.\"\n",
        "\n",
        "    def detail(self):\n",
        "        return ((self.x,self.y))\n",
        "\n",
        "p1 = Coordinates(int(input()),int(input()))\n",
        "p2 = Coordinates(int(input()),int(input()))\n",
        "p4 = p1 - p2\n",
        "print(p4.detail())\n",
        "p5 = p1 * p2\n",
        "print(p5.detail())\n",
        "point_check = (p4 == p5)\n",
        "print(point_check)"
      ],
      "execution_count": 2,
      "outputs": [
        {
          "output_type": "stream",
          "text": [
            "1\n",
            "2\n",
            "3\n",
            "4\n",
            "(-2, -2)\n",
            "(3, 8)\n",
            "The calculated coordinates are NOT the same.\n"
          ],
          "name": "stdout"
        }
      ]
    }
  ]
}