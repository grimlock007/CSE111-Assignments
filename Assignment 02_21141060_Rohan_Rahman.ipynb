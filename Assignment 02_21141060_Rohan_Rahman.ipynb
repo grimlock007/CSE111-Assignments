{
  "nbformat": 4,
  "nbformat_minor": 0,
  "metadata": {
    "colab": {
      "name": "21141060_Rohan_Rahman_04_CSE111_Lab_Assignmen2.ipynb",
      "provenance": [],
      "collapsed_sections": []
    },
    "kernelspec": {
      "name": "python3",
      "display_name": "Python 3"
    },
    "language_info": {
      "name": "python"
    }
  },
  "cells": [
    {
      "cell_type": "code",
      "metadata": {
        "id": "rdgb_gW7UPpu"
      },
      "source": [
        "#ID: 21141060\n",
        "#Section: 04\n",
        "#Name: Rohan Rahman\n",
        "#Assignment: 2"
      ],
      "execution_count": null,
      "outputs": []
    },
    {
      "cell_type": "code",
      "metadata": {
        "colab": {
          "base_uri": "https://localhost:8080/"
        },
        "id": "wECgwGlXUZw3",
        "outputId": "56405cdc-a9e1-48dc-9296-d4b0d44b766a"
      },
      "source": [
        "#Task 1\n",
        "\n",
        "def frac(x,y):\n",
        "    if x == 0 or y == 0:\n",
        "        return 0\n",
        "    else:\n",
        "        c = x / y\n",
        "        b = x // y\n",
        "        result = c - b\n",
        "        if result >=0 and result<=1:\n",
        "            return result\n",
        "\n",
        "a = int(input())\n",
        "b = int(input())\n",
        "print(frac(a,b))"
      ],
      "execution_count": null,
      "outputs": [
        {
          "output_type": "stream",
          "text": [
            "5\n",
            "2\n",
            "0.5\n"
          ],
          "name": "stdout"
        }
      ]
    },
    {
      "cell_type": "code",
      "metadata": {
        "colab": {
          "base_uri": "https://localhost:8080/"
        },
        "id": "dylIpxDYKZhq",
        "outputId": "d0f6715c-e502-4e62-decc-62c998400354"
      },
      "source": [
        "#Task 2\n",
        "\n",
        "def BMI(c,kg):\n",
        "    m = c/100\n",
        "    bmi = kg/(m*m)\n",
        "    x = \"{:.2f}\".format(bmi)\n",
        "    if bmi<18.5:\n",
        "        print('Score is',x+'. You are Underweight.')\n",
        "    elif bmi>=18.5 and bmi<=24.9:\n",
        "        print('Score is',x+'. You are Normal.')\n",
        "    elif bmi>=25 and bmi<=30:\n",
        "        print('Score is',x+\". You are Overweight.\")\n",
        "    elif bmi>30:\n",
        "        print('Score is',x+'. You are Obese.')\n",
        "\n",
        "height = int(input('Enter your height(in cm): '))\n",
        "weight = int(input('Enter your weight(in kg): '))\n",
        "\n",
        "BMI(height,weight)"
      ],
      "execution_count": 7,
      "outputs": [
        {
          "output_type": "stream",
          "text": [
            "Enter your height(in cm): 177\n",
            "Enter your weight(in kg): 75\n",
            "Score is 23.94. You are Normal.\n"
          ],
          "name": "stdout"
        }
      ]
    },
    {
      "cell_type": "code",
      "metadata": {
        "colab": {
          "base_uri": "https://localhost:8080/"
        },
        "id": "ttGXMagyYVEy",
        "outputId": "a669787b-78bf-444c-9883-041dcce92ec9"
      },
      "source": [
        "#Task 3\n",
        "\n",
        "def divisors(min,max,div):\n",
        "    total = 0\n",
        "    for i in range(min, max):\n",
        "        if i % div == 0:\n",
        "            total += i\n",
        "        else:\n",
        "            pass\n",
        "    return total\n",
        "\n",
        "m = int(input('Enter minimum value: '))\n",
        "mx = int(input('Enter maximum value: '))\n",
        "d = int(input('Enter divisor: '))\n",
        "print(divisors(m,mx,d))\n"
      ],
      "execution_count": null,
      "outputs": [
        {
          "output_type": "stream",
          "text": [
            "Enter minimum value: 3\n",
            "Enter maximum value: 16\n",
            "Enter divisor: 3\n",
            "45\n"
          ],
          "name": "stdout"
        }
      ]
    },
    {
      "cell_type": "code",
      "metadata": {
        "colab": {
          "base_uri": "https://localhost:8080/"
        },
        "id": "HlZM1eCFiKjm",
        "outputId": "a51e0598-ca5e-4f07-9b32-6ad934d3c3c6"
      },
      "source": [
        "#Task 4\n",
        "\n",
        "def function_name(a,b='Mohakhali'):\n",
        "    total = 0\n",
        "    delivery = 40\n",
        "    food = {\"BBQ Chicken Cheese Burger\": 250, \"Beef Burger\": 170, \"Naga Drums\": 200}\n",
        "    if b == 'Mohakhali':\n",
        "        pass\n",
        "    else:\n",
        "        delivery += 20\n",
        "    tax = food[a]*(8/100)\n",
        "\n",
        "    total = food[a]+delivery+tax\n",
        "    print(total)\n",
        "\n",
        "x = input('Enter your order: ')\n",
        "y = input('Enter your location(leave blank if in Mohakhali): ')\n",
        "if y == '':\n",
        "    function_name(x)\n",
        "else:\n",
        "    function_name(x,y)"
      ],
      "execution_count": null,
      "outputs": [
        {
          "output_type": "stream",
          "text": [
            "Enter your order: Beef Burger\n",
            "Enter your location(leave blank if in Mohakhali): \n",
            "223.6\n"
          ],
          "name": "stdout"
        }
      ]
    },
    {
      "cell_type": "code",
      "metadata": {
        "colab": {
          "base_uri": "https://localhost:8080/"
        },
        "id": "0PxeoW1VpbiU",
        "outputId": "001f9e79-8c5b-4192-d8ee-5729bf22193b"
      },
      "source": [
        "#Task 5\n",
        "\n",
        "def replace_domain(a,b,c='kaaj.com'):\n",
        "    br = 0\n",
        "    if '@sheba.xyz' in a:\n",
        "        print('Unchanged:',a)\n",
        "    elif 'kaaj.com' in a:\n",
        "        for i in range(len(a)):\n",
        "            if a[i] == '@':\n",
        "                br = i + 1\n",
        "            else:\n",
        "                pass\n",
        "        new = a[:br]\n",
        "        new_domain = new + b\n",
        "        print('Changed:', new_domain)\n",
        "    else:\n",
        "        print('Invalid Email')\n",
        "\n",
        "\n",
        "replace_domain('alice@kaaj.com', 'sheba.xyz', 'kaaj.com')"
      ],
      "execution_count": null,
      "outputs": [
        {
          "output_type": "stream",
          "text": [
            "Changed: alice@sheba.xyz\n"
          ],
          "name": "stdout"
        }
      ]
    },
    {
      "cell_type": "code",
      "metadata": {
        "colab": {
          "base_uri": "https://localhost:8080/"
        },
        "id": "n1ANGmYkr6Dl",
        "outputId": "ec4d38f1-a8a2-411b-edae-b857869ecef2"
      },
      "source": [
        "#Task 6\n",
        "\n",
        "def vowel_checker(x):\n",
        "    vowels = 'aeiou'\n",
        "    vow = []\n",
        "    count = 0\n",
        "    for i in x:\n",
        "        if i in vowels:\n",
        "            count+=1\n",
        "            vow.append(i)\n",
        "        else:\n",
        "            pass\n",
        "    if count==0:\n",
        "        print('No Vowels in the name.')\n",
        "    else:\n",
        "        vowel = ','.join(map(str, sorted(vow)))\n",
        "        print('Vowels:', vowel + '. Total Number of vowels:', count)\n",
        "\n",
        "name = input('Enter a name: ').lower()\n",
        "\n",
        "vowel_checker(name)"
      ],
      "execution_count": 9,
      "outputs": [
        {
          "output_type": "stream",
          "text": [
            "Enter a name: Ethan Winters\n",
            "Vowels: a,e,e,i. Total Number of vowels: 4\n"
          ],
          "name": "stdout"
        }
      ]
    },
    {
      "cell_type": "code",
      "metadata": {
        "colab": {
          "base_uri": "https://localhost:8080/"
        },
        "id": "ZSEF1tZrhcoL",
        "outputId": "a52b6864-14d8-4aeb-83c4-53dde308475b"
      },
      "source": [
        "#Task 7\n",
        "\n",
        "def palindrome_checker(x):\n",
        "\n",
        "    a = x.replace(\" \", '').lower()\n",
        "\n",
        "    b = a[::-1]\n",
        "\n",
        "    if a == b:\n",
        "        print('Palindrome')\n",
        "    else:\n",
        "        print('Not a palindrome')\n",
        "\n",
        "\n",
        "word = input('Enter string: ')\n",
        "\n",
        "palindrome_checker(word)"
      ],
      "execution_count": 1,
      "outputs": [
        {
          "output_type": "stream",
          "text": [
            "Enter string: nurses run\n",
            "Palindrome\n"
          ],
          "name": "stdout"
        }
      ]
    },
    {
      "cell_type": "code",
      "metadata": {
        "colab": {
          "base_uri": "https://localhost:8080/"
        },
        "id": "zRSzpurOrOFG",
        "outputId": "26e13a0e-d3f6-4dfa-d85f-0d3bff367c7d"
      },
      "source": [
        "#Task 8\n",
        "\n",
        "def years(x):\n",
        "    a = int(x / 364)\n",
        "    b = (x / 364) - (a)\n",
        "    c = int(b * 12)\n",
        "    d = x - (a * 365) - (c * 30)\n",
        "\n",
        "    print(a,'years,',c,'months and',d,'days.')\n",
        "\n",
        "word = int(input('Enter days: '))\n",
        "\n",
        "years(word)"
      ],
      "execution_count": 2,
      "outputs": [
        {
          "output_type": "stream",
          "text": [
            "Enter days: 4320\n",
            "11 years, 10 months and 5 days.\n"
          ],
          "name": "stdout"
        }
      ]
    },
    {
      "cell_type": "code",
      "metadata": {
        "colab": {
          "base_uri": "https://localhost:8080/"
        },
        "id": "0UZ2rWzS7C6j",
        "outputId": "d10cad17-3d8c-40c7-9e3a-cb4241c5168c"
      },
      "source": [
        "#Task 9\n",
        "\n",
        "the_string = input('Enter String: ')\n",
        "def spellcheck(x):\n",
        "    a = ''\n",
        "    marks = '.!?'\n",
        "    for i in range(len(x)):\n",
        "        if i == 0:\n",
        "            a += x[i].upper()\n",
        "        elif i == 1:\n",
        "            a += x[i].lower()\n",
        "        elif x[i - 2] in marks:\n",
        "            a += x[i].upper()\n",
        "        elif x[i - 1] == ' ' and x[i + 1] == ' ' and x[i] == 'i':\n",
        "            a += x[i].upper()\n",
        "        else:\n",
        "            a += x[i]\n",
        "\n",
        "    return a\n",
        "\n",
        "print(spellcheck(the_string))"
      ],
      "execution_count": 6,
      "outputs": [
        {
          "output_type": "stream",
          "text": [
            "Enter String: my favourite animal is a dog. a dog has sharp teeth so that it can eat flesh very easily. do you know my pet dog’s name? i love my pet very much.\n",
            "My favourite animal is a dog. A dog has sharp teeth so that it can eat flesh very easily. Do you know my pet dog’s name? I love my pet very much.\n"
          ],
          "name": "stdout"
        }
      ]
    }
  ]
}