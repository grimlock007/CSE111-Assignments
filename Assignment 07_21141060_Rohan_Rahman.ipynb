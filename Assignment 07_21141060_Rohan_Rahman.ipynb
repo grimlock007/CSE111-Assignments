{
  "nbformat": 4,
  "nbformat_minor": 0,
  "metadata": {
    "colab": {
      "name": "21141060_Rohan_Rahman_04_CSE111_Lab_Assignment7.ipynb",
      "provenance": [],
      "collapsed_sections": []
    },
    "kernelspec": {
      "name": "python3",
      "display_name": "Python 3"
    },
    "language_info": {
      "name": "python"
    }
  },
  "cells": [
    {
      "cell_type": "code",
      "metadata": {
        "id": "tQYFMIBsZ2jQ"
      },
      "source": [
        "#ID: 21141060\n",
        "#Section: 04\n",
        "#Name: Rohan Rahman\n",
        "#Assignment: 7"
      ],
      "execution_count": null,
      "outputs": []
    },
    {
      "cell_type": "code",
      "metadata": {
        "colab": {
          "base_uri": "https://localhost:8080/"
        },
        "id": "qePuqZd0Z5-F",
        "outputId": "4373bb7d-c015-44dd-fa16-02f84f1980f3"
      },
      "source": [
        "#Task 1\n",
        "\n",
        "class Student:\n",
        "    def __init__(self, name='Just a student', dept='nothing'):\n",
        "        self.__name = name\n",
        "        self.__department = dept\n",
        "    def set_department(self, dept):\n",
        "        self.__department = dept\n",
        "    def get_name(self):\n",
        "        return self.__name\n",
        "    def set_name(self,name):\n",
        "        self.__name = name\n",
        "    def __str__(self):\n",
        "        return 'Name: '+self.__name+' Department: '+self.__department\n",
        "\n",
        "class BBA_Student(Student):\n",
        "    def __init__(self,name='default',dept='BBA'):\n",
        "        super().__init__(name,dept)\n",
        "\n",
        "print(BBA_Student())\n",
        "print(BBA_Student('Humpty Dumpty'))\n",
        "print(BBA_Student('Little Bo Peep'))"
      ],
      "execution_count": null,
      "outputs": [
        {
          "output_type": "stream",
          "text": [
            "Name: default Department: BBA\n",
            "Name: Humpty Dumpty Department: BBA\n",
            "Name: Little Bo Peep Department: BBA\n"
          ],
          "name": "stdout"
        }
      ]
    },
    {
      "cell_type": "code",
      "metadata": {
        "id": "Wq8F_IGZFTOI",
        "colab": {
          "base_uri": "https://localhost:8080/"
        },
        "outputId": "5181acc7-30d7-46bf-f703-8069ab7c8a13"
      },
      "source": [
        "#Task 2\n",
        "\n",
        "class Vehicle:\n",
        " def __init__(self):\n",
        "  self.x = 0\n",
        "  self.y = 0\n",
        " def moveUp(self):\n",
        "   self.y+=1\n",
        " def moveDown(self):\n",
        "   self.y-=1\n",
        " def moveRight(self):\n",
        "  self.x+=1\n",
        " def moveLeft(self):\n",
        "  self.x-=1\n",
        " def __str__(self):\n",
        "  return '('+str(self.x)+' , '+str(self.y)+')'\n",
        "\n",
        "class Vehicle2010(Vehicle):\n",
        " def moveLowerLeft(self):\n",
        "  super().moveDown()\n",
        "  super().moveLeft()\n",
        " def moveLowerRight(self):\n",
        "  super().moveDown()\n",
        "  super().moveRight()\n",
        " def moveUpperLeft(self):\n",
        "  super().moveUp()\n",
        "  super().moveLeft()\n",
        " def moveUpperRight(self):\n",
        "  super().moveUp()\n",
        "  super().moveRight()\n",
        "\n",
        " def equals(self,other):\n",
        "     if self.x == other.x and self.y == other.y:\n",
        "         return True\n",
        "     return False\n",
        "\n",
        "\n",
        "print('Part 1')\n",
        "print('------')\n",
        "car = Vehicle()\n",
        "print(car)\n",
        "car.moveUp()\n",
        "print(car)\n",
        "car.moveLeft()\n",
        "print(car)\n",
        "car.moveDown()\n",
        "print(car)\n",
        "car.moveRight()\n",
        "print(car)\n",
        "print('------')\n",
        "print('Part 2')\n",
        "print('------')\n",
        "car1 = Vehicle2010()\n",
        "print(car1)\n",
        "car1.moveLowerLeft()\n",
        "print(car1)\n",
        "car2 = Vehicle2010()\n",
        "car2.moveLeft()\n",
        "print(car1.equals(car2))\n",
        "car2.moveDown()\n",
        "print(car1.equals(car2))"
      ],
      "execution_count": 1,
      "outputs": [
        {
          "output_type": "stream",
          "text": [
            "Part 1\n",
            "------\n",
            "(0 , 0)\n",
            "(0 , 1)\n",
            "(-1 , 1)\n",
            "(-1 , 0)\n",
            "(0 , 0)\n",
            "------\n",
            "Part 2\n",
            "------\n",
            "(0 , 0)\n",
            "(-1 , -1)\n",
            "False\n",
            "True\n"
          ],
          "name": "stdout"
        }
      ]
    },
    {
      "cell_type": "code",
      "metadata": {
        "colab": {
          "base_uri": "https://localhost:8080/"
        },
        "id": "aRJybrBiFVMP",
        "outputId": "53e7e3f8-3f92-4988-b6b3-6fb3b75cdae4"
      },
      "source": [
        "#Task 3\n",
        "\n",
        "class Tournament:\n",
        " def __init__(self,name='Default'):\n",
        "  self.__name = name\n",
        " def set_name(self,name):\n",
        "  self.__name = name\n",
        " def get_name(self):\n",
        "  return self.__name\n",
        "\n",
        "class Cricket_Tournament(Tournament):\n",
        " def __init__(self,name='Default',num=0,ty=\"No Type\"):\n",
        "  super().__init__(name)\n",
        "  self.num = num\n",
        "  self.ty = ty\n",
        " def detail(self):\n",
        "  return f\"Cricket Tournament Name: {self.get_name()}\" \\\n",
        "         f\"\\nNumber of Teams: {self.num}\" \\\n",
        "         f\"\\nType: {self.ty}\"\n",
        "class Tennis_Tournament(Cricket_Tournament):\n",
        " def detail(self):\n",
        "  return f\"Tennis Tournament Name: {self.get_name()}\" \\\n",
        "         f\"\\nNumber of Teams: {self.num}\" \\\n",
        "\n",
        "ct1 = Cricket_Tournament()\n",
        "print(ct1.detail())\n",
        "print(\"-----------------------\")\n",
        "ct2 = Cricket_Tournament(\"IPL\",10,\"t20\")\n",
        "print(ct2.detail())\n",
        "print(\"-----------------------\")\n",
        "tt = Tennis_Tournament(\"Roland Garros\",128)\n",
        "print(tt.detail())\n"
      ],
      "execution_count": null,
      "outputs": [
        {
          "output_type": "stream",
          "text": [
            "Cricket Tournament Name: Default\n",
            "Number of Teams: 0\n",
            "Type: No Type\n",
            "-----------------------\n",
            "Cricket Tournament Name: IPL\n",
            "Number of Teams: 10\n",
            "Type: t20\n",
            "-----------------------\n",
            "Tennis Tournament Name: Roland Garros\n",
            "Number of Teams: 128\n"
          ],
          "name": "stdout"
        }
      ]
    },
    {
      "cell_type": "code",
      "metadata": {
        "colab": {
          "base_uri": "https://localhost:8080/"
        },
        "id": "gV9gk6ftrgEg",
        "outputId": "3f006244-e47e-4f79-abfa-c12b4d52c74c"
      },
      "source": [
        "#Task 4\n",
        "\n",
        "class Product:\n",
        " def __init__(self,id, title, price):\n",
        "     self.__id = id\n",
        "     self. __title = title\n",
        "     self. __price = price\n",
        " def get_id_title_price(self):\n",
        "     return \"ID: \"+str(self.__id)+\" Title: \"+self.__title+ \" Price: \"+str(self.__price)\n",
        "\n",
        "class Book(Product):\n",
        "    def __init__(self,id,title,price,code,publisher):\n",
        "        super().__init__(id,title,price)\n",
        "        self.code = code\n",
        "        self.publisher = publisher\n",
        "\n",
        "    def printDetail(self):\n",
        "        print(super().get_id_title_price())\n",
        "        return f\"ISBN: {self.code} Publisher: {self.publisher}\"\n",
        "\n",
        "class CD(Product):\n",
        "    def __init__(self,id,title,price,band,duration,genre):\n",
        "        super().__init__(id,title,price)\n",
        "        self.band = band\n",
        "        self.duration = duration\n",
        "        self.genre = genre\n",
        "\n",
        "    def printDetail(self):\n",
        "        print(super().get_id_title_price())\n",
        "        return f\"Band: {self.band} Duration: {self.duration}\\nGenre: {self.genre}\"\n",
        "\n",
        "\n",
        "\n",
        "book = Book(1,\"The Alchemist\",500,\"97806\",\"HarperCollins\")\n",
        "print(book.printDetail())\n",
        "print(\"-----------------------\")\n",
        "cd = CD(2,\"Shotto\",300,\"Warfaze\",50,\"Hard Rock\")\n",
        "print(cd.printDetail())\n"
      ],
      "execution_count": null,
      "outputs": [
        {
          "output_type": "stream",
          "text": [
            "ID: 1 Title: The Alchemist Price: 500\n",
            "ISBN: 97806 Publisher: HarperCollins\n",
            "-----------------------\n",
            "ID: 2 Title: Shotto Price: 300\n",
            "Band: Warfaze Duration: 50\n",
            "Genre: Hard Rock\n"
          ],
          "name": "stdout"
        }
      ]
    },
    {
      "cell_type": "code",
      "metadata": {
        "colab": {
          "base_uri": "https://localhost:8080/"
        },
        "id": "tl1a7I4HtaOR",
        "outputId": "790933e6-5f29-43b1-ce5f-c86c546eb2a3"
      },
      "source": [
        "#Task 5\n",
        "\n",
        "class Animal:\n",
        "    def __init__(self, sound):\n",
        "        self.__sound = sound\n",
        "\n",
        "    def makeSound(self):\n",
        "        return self.__sound\n",
        "\n",
        "\n",
        "class Printer:\n",
        "    def printSound(self, a):\n",
        "        print(a.makeSound())\n",
        "\n",
        "class Dog(Animal):\n",
        "    pass\n",
        "class Cat(Animal):\n",
        "    pass\n",
        "\n",
        "d1 = Dog('bark')\n",
        "c1 = Cat('meow')\n",
        "a1 = Animal('Animal does not make sound')\n",
        "pr = Printer()\n",
        "pr.printSound(a1)\n",
        "pr.printSound(c1)\n",
        "pr.printSound(d1)"
      ],
      "execution_count": null,
      "outputs": [
        {
          "output_type": "stream",
          "text": [
            "Animal does not make sound\n",
            "meow\n",
            "bark\n"
          ],
          "name": "stdout"
        }
      ]
    },
    {
      "cell_type": "code",
      "metadata": {
        "id": "NOXOJW0kwF39",
        "colab": {
          "base_uri": "https://localhost:8080/"
        },
        "outputId": "75346e8e-9245-44e1-c628-e1bf9550d415"
      },
      "source": [
        "#Task 6\n",
        "\n",
        "class Shape:\n",
        "    def __init__(self, name='Default', height=0, base=0):\n",
        "        self.area = 0\n",
        "        self.name = name\n",
        "        self.height = height\n",
        "        self.base = base\n",
        "    def get_height_base(self):\n",
        "        return \"Height: \"+str(self.height)+\",Base: \"+str(self.base)\n",
        "\n",
        "\n",
        "class triangle(Shape):\n",
        "    def __init__(self,name='Default',height=0,base=0):\n",
        "        super().__init__(name,height,base)\n",
        "    def calcArea(self):\n",
        "        self.area = 0.5*self.height*self.base\n",
        "\n",
        "    def printDetail(self):\n",
        "        print('Shape name:',self.name)\n",
        "        print(super().get_height_base())\n",
        "        return f'Area: {self.area}'\n",
        "\n",
        "class trapezoid(Shape):\n",
        "    def __init__(self,name,height,base,base2):\n",
        "        super().__init__(name,height,base)\n",
        "        self.base2 = base2\n",
        "    def calcArea(self):\n",
        "        self.area = ((self.base+self.base2)/2)*self.height\n",
        "\n",
        "    def printDetail(self):\n",
        "        print('Shape name:',self.name)\n",
        "        print(super().get_height_base(),'Side_A:',self.base2)\n",
        "        return f'Area: {self.area}'\n",
        "\n",
        "\n",
        "\n",
        "\n",
        "\n",
        "tri_default = triangle()\n",
        "tri_default.calcArea()\n",
        "print(tri_default.printDetail())\n",
        "print('--------------------------')\n",
        "tri = triangle('Triangle', 10, 5)\n",
        "tri.calcArea()\n",
        "print(tri.printDetail())\n",
        "print('---------------------------')\n",
        "trap = trapezoid('Trapezoid', 10, 6, 4)\n",
        "trap.calcArea()\n",
        "print(trap.printDetail())\n"
      ],
      "execution_count": 1,
      "outputs": [
        {
          "output_type": "stream",
          "text": [
            "Shape name: Default\n",
            "Height: 0,Base: 0\n",
            "Area: 0.0\n",
            "--------------------------\n",
            "Shape name: Triangle\n",
            "Height: 10,Base: 5\n",
            "Area: 25.0\n",
            "---------------------------\n",
            "Shape name: Trapezoid\n",
            "Height: 10,Base: 6 Side_A: 4\n",
            "Area: 50.0\n"
          ],
          "name": "stdout"
        }
      ]
    },
    {
      "cell_type": "code",
      "metadata": {
        "colab": {
          "base_uri": "https://localhost:8080/"
        },
        "id": "Qnqi92ESyGMy",
        "outputId": "b0b10508-97be-4864-e409-52de85229903"
      },
      "source": [
        "#Task 7\n",
        "\n",
        "class Football:\n",
        "    def __init__(self, team_name, name, role):\n",
        "        self.__team = team_name\n",
        "        self.__name = name\n",
        "        self.role = role\n",
        "        self.earning_per_match = 0\n",
        "    def get_name_team(self):\n",
        "        return 'Name: '+self.__name+', Team Name: ' +self.__team\n",
        "\n",
        "class Player(Football):\n",
        "    def __init__(self,team_name,name,role,goal,play):\n",
        "        super().__init__(team_name,name,role)\n",
        "        self.goal = goal\n",
        "        self.play = play\n",
        "        self.ratio = 0\n",
        "\n",
        "    def calculate_ratio(self):\n",
        "        self.ratio = self.goal/self.play\n",
        "        self.earning_per_match = (self.goal*1000)+(self.play*10)\n",
        "\n",
        "    def print_details(self):\n",
        "        print(super().get_name_team())\n",
        "        print(f'Team Role: {self.role}\\n'\n",
        "              f'Total Goal: {self.goal}, Total Played: {self.play}\\n'\n",
        "              f'Goal Ratio: {self.ratio}\\n'\n",
        "              f'Match Earnings: {self.earning_per_match}k')\n",
        "class Manager(Football):\n",
        "    def __init__(self,team_name, name, role, play):\n",
        "        super().__init__(team_name,name,role)\n",
        "        self.play = play\n",
        "        self.earning_per_match = (self.play * 1000)\n",
        "\n",
        "    def print_details(self):\n",
        "        print(super().get_name_team())\n",
        "        print(f'Team Role: {self.role}\\n'\n",
        "              f'Total Win: {self.play}\\n'\n",
        "              f'Match Earning: {self.earning_per_match}k')\n",
        "\n",
        "player_one = Player('Juventus', 'Ronaldo', 'Striker', 25, 32)\n",
        "player_one.calculate_ratio()\n",
        "player_one.print_details()\n",
        "print('------------------------------------------')\n",
        "manager_one = Manager('Real Madrid', 'Zidane', 'Manager', 25)\n",
        "manager_one.print_details()"
      ],
      "execution_count": 1,
      "outputs": [
        {
          "output_type": "stream",
          "text": [
            "Name: Ronaldo, Team Name: Juventus\n",
            "Team Role: Striker\n",
            "Total Goal: 25, Total Played: 32\n",
            "Goal Ratio: 0.78125\n",
            "Match Earnings: 25320k\n",
            "------------------------------------------\n",
            "Name: Zidane, Team Name: Real Madrid\n",
            "Team Role: Manager\n",
            "Total Win: 25\n",
            "Match Earning: 25000k\n"
          ],
          "name": "stdout"
        }
      ]
    }
  ]
}