{
 "cells": [
  {
   "cell_type": "code",
   "execution_count": null,
   "metadata": {
    "id": "WUB1VrSlvB4-"
   },
   "outputs": [],
   "source": [
    "#ID: 21141060\n",
    "#Section: 04\n",
    "#Name: Rohan Rahman\n",
    "#Assignment: 1"
   ]
  },
  {
   "cell_type": "markdown",
   "metadata": {
    "id": "tSPxeifwM2HU"
   },
   "source": [
    "String\n",
    "\n"
   ]
  },
  {
   "cell_type": "code",
   "execution_count": null,
   "metadata": {
    "colab": {
     "base_uri": "https://localhost:8080/"
    },
    "id": "DKJmK9VpzPRa",
    "outputId": "4afd81f1-0631-45a2-e4ae-5d1f6faa0061"
   },
   "outputs": [
    {
     "name": "stdout",
     "output_type": "stream",
     "text": [
      "Enter input: HOusE\n",
      "HOUSE\n"
     ]
    }
   ],
   "source": [
    "#Task 1\n",
    "\n",
    "x = input(\"Enter input: \")\n",
    "lower = 0\n",
    "upper = 0\n",
    "for i in x:\n",
    "    if i>= 'A' and i<= 'Z':\n",
    "        upper += 1\n",
    "    else:\n",
    "        lower += 1\n",
    "\n",
    "if upper>lower:\n",
    "    print(x.upper())\n",
    "else:\n",
    "    print(x.lower())"
   ]
  },
  {
   "cell_type": "code",
   "execution_count": null,
   "metadata": {
    "colab": {
     "base_uri": "https://localhost:8080/"
    },
    "id": "ROamg6iOzyiK",
    "outputId": "5e7b706f-773b-4ea9-be6f-47186506a1c1"
   },
   "outputs": [
    {
     "name": "stdout",
     "output_type": "stream",
     "text": [
      "Enter input: r3tr0\n",
      "MIXED\n"
     ]
    }
   ],
   "source": [
    "#Task 2\n",
    "x = input('Enter input: ')\n",
    "Letter = False\n",
    "Number = False\n",
    "for i in x:\n",
    "    if i>= 'A' and i<= 'z':\n",
    "        Letter = True\n",
    "    else:\n",
    "        Number = True\n",
    "\n",
    "if Letter is True and Number is True:\n",
    "    print(\"MIXED\")\n",
    "else:\n",
    "    if Letter is True:\n",
    "        print('WORD')\n",
    "    else:\n",
    "        print('NUMBER')"
   ]
  },
  {
   "cell_type": "code",
   "execution_count": null,
   "metadata": {
    "colab": {
     "base_uri": "https://localhost:8080/"
    },
    "id": "aHVHpPlcMzPJ",
    "outputId": "8c2ba71d-386c-47c1-b062-9a6b32613eb4"
   },
   "outputs": [
    {
     "name": "stdout",
     "output_type": "stream",
     "text": [
      "Enter string: baNgladEsh\n",
      "glad\n"
     ]
    }
   ],
   "source": [
    "#Task 3\n",
    "x =  input('Enter string: ')\n",
    "a = 0\n",
    "b = 0\n",
    "upper = 0\n",
    "count = 0\n",
    "for i in x:\n",
    "    if i>= 'A' and i<= 'Z':\n",
    "        if a == 0:\n",
    "            a += count\n",
    "        else:\n",
    "            b += count\n",
    "        upper += 1\n",
    "    else:\n",
    "        pass\n",
    "    count += 1\n",
    "\n",
    "\n",
    "if upper < 2:\n",
    "    print('BLANK')\n",
    "else:\n",
    "    print(x[a+1:b])"
   ]
  },
  {
   "cell_type": "code",
   "execution_count": null,
   "metadata": {
    "colab": {
     "base_uri": "https://localhost:8080/"
    },
    "id": "yHK4jEORsCY0",
    "outputId": "87af5a58-b527-4ca4-9e2e-6f45e14ed390"
   },
   "outputs": [
    {
     "name": "stdout",
     "output_type": "stream",
     "text": [
      "Enter your string: 'Robinson Crusoe' is too too good\n",
      "'Robinson Crusoe' is too excellent  "
     ]
    }
   ],
   "source": [
    "#Task 4\n",
    "a = input('Enter your string: ')\n",
    "\n",
    "x = a.split(' ')\n",
    "\n",
    "\n",
    "if 'good too' in a and 'too good' not in a:\n",
    "    print(a)\n",
    "elif 'too good' in a:\n",
    "    for i in range(len(x)):\n",
    "        if x[i] == 'too' and x[i + 1] == 'good':\n",
    "            x[i] = 'excellent'\n",
    "            x[i+1] = ''\n",
    "\n",
    "        else:\n",
    "            pass\n",
    "    for i in x:\n",
    "        print(i, end=' ')\n",
    "else:\n",
    "    print(a)\n"
   ]
  },
  {
   "cell_type": "code",
   "execution_count": null,
   "metadata": {
    "colab": {
     "base_uri": "https://localhost:8080/"
    },
    "id": "_7QhtDRcsEky",
    "outputId": "453a3fd7-2d8b-4065-fe0a-f701b6633e1f"
   },
   "outputs": [
    {
     "name": "stdout",
     "output_type": "stream",
     "text": [
      "Enter first string: Sam\n",
      "Enter second string: Dean\n",
      "aa\n"
     ]
    }
   ],
   "source": [
    "#Task 5\n",
    "\n",
    "a = input('Enter first string: ')\n",
    "b = input('Enter second string: ')\n",
    "x = ''\n",
    "y = ''\n",
    "for i in a:\n",
    "    if i in b:\n",
    "        x += i\n",
    "    else:\n",
    "        pass\n",
    "\n",
    "for i in b:\n",
    "    if i in a:\n",
    "        y += i\n",
    "    else:\n",
    "        pass\n",
    "\n",
    "\n",
    "if x=='':\n",
    "    print('Nothing in common')\n",
    "else:\n",
    "    print(x+y)"
   ]
  },
  {
   "cell_type": "code",
   "execution_count": null,
   "metadata": {
    "colab": {
     "base_uri": "https://localhost:8080/"
    },
    "id": "eD8F4AANn3Dy",
    "outputId": "b4630899-a44f-485d-bbde-603b08b8f124"
   },
   "outputs": [
    {
     "name": "stdout",
     "output_type": "stream",
     "text": [
      "Ni3R_R3pl1canT\n",
      "OK.\n"
     ]
    }
   ],
   "source": [
    "#Task 6\n",
    "a = input()\n",
    "count = 0\n",
    "count2 = 0\n",
    "count3 = 0\n",
    "countS = 0\n",
    "count4 = True\n",
    "z = ''\n",
    "y = ''\n",
    "c = ''\n",
    "d = ''\n",
    "prob = []\n",
    "last = []\n",
    "\n",
    "for i in a:\n",
    "    if i >= 'A' and i <= 'Z':\n",
    "        count+=1\n",
    "    else:\n",
    "        pass\n",
    "    if i >= 'a' and i <= 'z':\n",
    "        count2+=1\n",
    "    else:\n",
    "        pass\n",
    "    if i >= '0' and i <= '9':\n",
    "        count3+=1\n",
    "    else:\n",
    "        pass\n",
    "    if i =='_':\n",
    "        countS += 1\n",
    "    if i == '$':\n",
    "        countS += 1\n",
    "    if i ==  '#':\n",
    "        countS += 1\n",
    "    if i == '@':\n",
    "        countS += 1\n",
    "\n",
    "\n",
    "\n",
    "if count==0:\n",
    "    z ='Uppercase character missing'\n",
    "    count4 = False\n",
    "\n",
    "if count2==0:\n",
    "    y = 'Lowercase character missing'\n",
    "    count4 = False\n",
    "\n",
    "if count3==0:\n",
    "    c = 'Digit missing'\n",
    "    count4 = False\n",
    "\n",
    "if countS==0:\n",
    "    d = 'Special character missing'\n",
    "    count4 = False\n",
    "\n",
    "if count4 is True:\n",
    "    print('OK.')\n",
    "else:\n",
    "    prob = [z,y,c,d]\n",
    "    for i in prob:\n",
    "        if i == '':\n",
    "            pass\n",
    "        else:\n",
    "            last.append(i)\n",
    "    joined_list = \",\".join(last)\n",
    "    print(joined_list+'.')"
   ]
  },
  {
   "cell_type": "markdown",
   "metadata": {
    "id": "b8v6xS-65IvB"
   },
   "source": [
    "List"
   ]
  },
  {
   "cell_type": "code",
   "execution_count": null,
   "metadata": {
    "colab": {
     "base_uri": "https://localhost:8080/"
    },
    "id": "3X766eSf5LOj",
    "outputId": "72aff517-f821-46f9-f0d8-e5850add6243"
   },
   "outputs": [
    {
     "name": "stdout",
     "output_type": "stream",
     "text": [
      "10\n",
      "20\n",
      "20\n",
      "30\n",
      "10\n",
      "50\n",
      "90\n",
      "STOP\n",
      "10 - 2 times\n",
      "20 - 2 times\n",
      "30 - 1 times\n",
      "50 - 1 times\n",
      "90 - 1 times\n"
     ]
    }
   ],
   "source": [
    "#task 1\n",
    "x = []\n",
    "y = []\n",
    "\n",
    "while 'STOP' not in x:\n",
    "    x.append(input())\n",
    "\n",
    "for i in x:\n",
    "    c = x.count(i)\n",
    "    if i == 'STOP':\n",
    "        pass\n",
    "\n",
    "    elif i not in y:\n",
    "        print(i, '-', c, 'times')\n",
    "        y.append(i)\n",
    "    else:\n",
    "        pass\n"
   ]
  },
  {
   "cell_type": "code",
   "execution_count": null,
   "metadata": {
    "colab": {
     "base_uri": "https://localhost:8080/"
    },
    "id": "iQA5uD93IvwD",
    "outputId": "7e9e3ccd-a694-45b8-999b-b3fb2811ba69"
   },
   "outputs": [
    {
     "name": "stdout",
     "output_type": "stream",
     "text": [
      "Enter Number of lists: 5\n",
      "4\n",
      "1 2 3\n",
      "4 5 6\n",
      "10 11 12\n",
      "7 8 9\n",
      "33\n",
      "[10, 11, 12]\n"
     ]
    }
   ],
   "source": [
    "#task 2\n",
    "N = int(input('Enter Number of lists: '))\n",
    "sum = 0\n",
    "simp = 0\n",
    "total = 0\n",
    "last = []\n",
    "for i in range(N):\n",
    "    i = input()\n",
    "    b = list(int(x) for x in i.split(\" \"))\n",
    "    for j in b:\n",
    "        simp += j\n",
    "\n",
    "\n",
    "    if simp > sum:\n",
    "        sum = simp\n",
    "    else:\n",
    "        pass\n",
    "\n",
    "    if total > sum:\n",
    "        pass\n",
    "    else:\n",
    "        total = sum\n",
    "        last = b\n",
    "\n",
    "    sum = 0\n",
    "    simp = 0\n",
    "\n",
    "print(total)\n",
    "print(last)"
   ]
  },
  {
   "cell_type": "code",
   "execution_count": null,
   "metadata": {
    "colab": {
     "base_uri": "https://localhost:8080/"
    },
    "id": "Bxwz96yIL5fw",
    "outputId": "d7098ce7-b587-4ea3-e675-b28fe62d5aff"
   },
   "outputs": [
    {
     "name": "stdout",
     "output_type": "stream",
     "text": [
      "Enter first list: 2 3 6\n",
      "Enter second list: 3 4 5\n",
      "[6, 8, 10, 9, 12, 15, 18, 24, 30]\n"
     ]
    }
   ],
   "source": [
    "#task 3\n",
    "a = input('Enter first list: ')\n",
    "b = list(int(x) for x in a.split(\" \"))\n",
    "c = input('Enter second list: ')\n",
    "d = list(int(x) for x in c.split(\" \"))\n",
    "mul = 0\n",
    "sum = []\n",
    "for i in b:\n",
    "    mul = i\n",
    "    for j in d:\n",
    "        total = mul*j\n",
    "        sum.append(total)\n",
    "\n",
    "print(sum)"
   ]
  },
  {
   "cell_type": "code",
   "execution_count": null,
   "metadata": {
    "colab": {
     "base_uri": "https://localhost:8080/"
    },
    "id": "OB_Dyb75Lln8",
    "outputId": "58c6f223-4cb6-4824-e212-8be31669eaf0"
   },
   "outputs": [
    {
     "name": "stdout",
     "output_type": "stream",
     "text": [
      "1 4 2 3\n",
      "UB Jumper\n",
      "2 1 4 6 10\n",
      "UB Jumper\n",
      "1 4 2 -1 6\n",
      "Not UB Jumper\n",
      "STOP\n"
     ]
    }
   ],
   "source": [
    "#task 4\n",
    "a = ''\n",
    "b = ''\n",
    "x = 0\n",
    "y = 0\n",
    "UB = [1,2,3,4]\n",
    "while 'STOP' not in a:\n",
    "    a = input()\n",
    "    if a == 'STOP':\n",
    "        pass\n",
    "    else:\n",
    "        b = list(int(x) for x in a.split(\" \"))\n",
    "        for i in range(len(b)-1):\n",
    "            if (b[i+1] - b[i])>0 and (b[i+1] - b[i])<len(b):\n",
    "                x += 1\n",
    "            elif (b[i+1] - b[i])>(-(len(b))) and (b[i+1] - b[i])<0:\n",
    "                x += 1\n",
    "            else:\n",
    "                y += 1\n",
    "        if x>0 and y==0:\n",
    "            print('UB Jumper')\n",
    "        else:\n",
    "            print('Not UB Jumper')\n",
    "        x = 0\n",
    "        y = 0"
   ]
  },
  {
   "cell_type": "code",
   "execution_count": null,
   "metadata": {
    "colab": {
     "base_uri": "https://localhost:8080/"
    },
    "id": "bGHrK7h1fuX_",
    "outputId": "322d58bc-98db-4c4a-fecc-77447bfcf5c3"
   },
   "outputs": [
    {
     "name": "stdout",
     "output_type": "stream",
     "text": [
      "Enter input: Bracu1234\n",
      "acruB1324\n"
     ]
    }
   ],
   "source": [
    "#Task 5\n",
    "x = input('Enter input: ')\n",
    "lower = []\n",
    "upper = []\n",
    "odd = []\n",
    "even = []\n",
    "for i in x:\n",
    "    if i>='a' and i<='z':\n",
    "        lower.append(i)\n",
    "    elif i>='A' and i<='Z':\n",
    "        upper.append(i)\n",
    "    elif i>='0' and i<='9':\n",
    "        if int(i)%2==0:\n",
    "            even.append(i)\n",
    "        else:\n",
    "            odd.append(i)\n",
    "    else:\n",
    "        print('Invalid Input')\n",
    "        break\n",
    "\n",
    "Lower = ''.join(map(str, sorted(lower)))\n",
    "Upper = ''.join(map(str, sorted(upper)))\n",
    "Odd = ''.join(map(str, sorted(odd)))\n",
    "Even = ''.join(map(str, sorted(even)))\n",
    "\n",
    "print(Lower+Upper+Odd+Even)"
   ]
  },
  {
   "cell_type": "code",
   "execution_count": null,
   "metadata": {
    "colab": {
     "base_uri": "https://localhost:8080/"
    },
    "id": "oNhCUiwJAEDS",
    "outputId": "679a0717-8bdc-4edb-e1af-ba51e2a064c8"
   },
   "outputs": [
    {
     "name": "stdout",
     "output_type": "stream",
     "text": [
      "Number of students: 6\n",
      "Number of times: 2\n",
      "0 1 2 2 1 0\n",
      "2 teams can be formed\n"
     ]
    }
   ],
   "source": [
    "#Task 6\n",
    "n = int(input('Number of students: '))\n",
    "k = int(input('Number of times: '))\n",
    "a = input()\n",
    "b = list(int(x) for x in a.split(\" \"))\n",
    "count = 0\n",
    "for i in range(n):\n",
    "    if b[i]+k>0 and b[i]+k<5:\n",
    "        count+=1\n",
    "    else:\n",
    "        pass\n",
    "\n",
    "teams = count/3\n",
    "\n",
    "print(int(teams),'teams can be formed')"
   ]
  },
  {
   "cell_type": "markdown",
   "metadata": {
    "id": "RO0c2Z_Wl4gc"
   },
   "source": [
    "Dictionary and Tuple"
   ]
  },
  {
   "cell_type": "code",
   "execution_count": 2,
   "metadata": {
    "colab": {
     "base_uri": "https://localhost:8080/"
    },
    "id": "PfJ0hfSvl64W",
    "outputId": "a1a3c6fe-6463-4a99-ce3b-e2acae1d6acc"
   },
   "outputs": [
    {
     "name": "stdout",
     "output_type": "stream",
     "text": [
      "a: 100, b: 100, c: 200, d: 300\n",
      "a: 300, b: 200, d: 400, e: 200\n",
      "{'a': 400, 'b': 300, 'c': 200, 'd': 700, 'e': 200}\n",
      "(200, 300, 400, 700)\n"
     ]
    }
   ],
   "source": [
    "#Task 1\n",
    "\n",
    "a = input()\n",
    "x = {}\n",
    "l1 = a.split(\", \")\n",
    "numbers = '1234567890'\n",
    "\n",
    "for i in l1:\n",
    "    l2 = i.split(\": \")\n",
    "    if numbers in l2:\n",
    "        x[l2[0]] = int(l2[1])\n",
    "    else:\n",
    "        x[l2[0]] = int(l2[1])\n",
    "\n",
    "b = input()\n",
    "\n",
    "y = {}\n",
    "r1 = b.split(\", \")\n",
    "\n",
    "for i in r1:\n",
    "    r2 = i.split(\": \")\n",
    "    if numbers in r2:\n",
    "        y[r2[0]] = int(r2[1])\n",
    "    else:\n",
    "        y[r2[0]] = int(r2[1])\n",
    "\n",
    "new = {}\n",
    "for i in x:\n",
    "    if i in y:\n",
    "        x[i] = x[i]+y[i]\n",
    "        new[i] = x[i]\n",
    "    if i not in y:\n",
    "        new[i] = x[i]\n",
    "    else:\n",
    "        for i in y:\n",
    "            if i in x:\n",
    "                pass\n",
    "            else:\n",
    "                new[i]=y[i]\n",
    "\n",
    "print(dict(sorted(new.items())))\n",
    "values = tuple(sorted(new.values()))\n",
    "count = 0\n",
    "val = []\n",
    "for i in values:\n",
    "    if values.count(i) == 2:\n",
    "        if count==0:\n",
    "            val.append(i)\n",
    "            count+=1\n",
    "        else:\n",
    "            pass\n",
    "    else:\n",
    "        val.append(i)\n",
    "\n",
    "print(tuple(val))"
   ]
  },
  {
   "cell_type": "code",
   "execution_count": null,
   "metadata": {
    "colab": {
     "base_uri": "https://localhost:8080/"
    },
    "id": "lG1MpubXxE1b",
    "outputId": "736e7a6e-c24f-4173-c433-28814540fd84"
   },
   "outputs": [
    {
     "name": "stdout",
     "output_type": "stream",
     "text": [
      "10\n",
      "20\n",
      "20\n",
      "40\n",
      "10\n",
      "10\n",
      "70\n",
      "STOP\n",
      "10 - 3 times\n",
      "20 - 2 times\n",
      "40 - 1 times\n",
      "70 - 1 times\n"
     ]
    }
   ],
   "source": [
    "#Task 2\n",
    "x = []\n",
    "y = []\n",
    "dict1 = {}\n",
    "while 'STOP' not in x:\n",
    "    x.append(input())\n",
    "\n",
    "\n",
    "for i in (x):\n",
    "    c = x.count(i)\n",
    "    dict1[i] = c\n",
    "    if i == 'STOP':\n",
    "        pass\n",
    "    else:\n",
    "        if i not in y:\n",
    "            print(i, '-', dict1[i], 'times')\n",
    "            y.append(i)\n",
    "        else:\n",
    "            pass\n"
   ]
  },
  {
   "cell_type": "code",
   "execution_count": 7,
   "metadata": {
    "colab": {
     "base_uri": "https://localhost:8080/"
    },
    "id": "I59JQMcXIK9r",
    "outputId": "2f2af7eb-810b-4e7a-9892-a200e86f668c"
   },
   "outputs": [
    {
     "name": "stdout",
     "output_type": "stream",
     "text": [
      "Enter Input: key1 : value1, key2 : value2, key3 : value1\n",
      "{'value1': ['key1', 'key3'], 'value2': ['key2']}\n"
     ]
    }
   ],
   "source": [
    "#Task 3\n",
    "x = input(\"Enter Input: \")\n",
    "\n",
    "dic1 = {}\n",
    "l1 = x.split(\", \")\n",
    "\n",
    "\n",
    "for i in l1:\n",
    "    l2 = i.split(\" : \")\n",
    "    dic1[l2[0]] = l2[1]\n",
    "\n",
    "\n",
    "my_inverted_dict = dict()\n",
    "for key, value in dic1.items():\n",
    "    my_inverted_dict.setdefault(value, list()).append(key)\n",
    "\n",
    "print(my_inverted_dict)\n"
   ]
  },
  {
   "cell_type": "code",
   "execution_count": 9,
   "metadata": {
    "colab": {
     "base_uri": "https://localhost:8080/"
    },
    "id": "kjfNDrErvP03",
    "outputId": "6e6662ae-96e2-4888-c480-57f5357554b0"
   },
   "outputs": [
    {
     "name": "stdout",
     "output_type": "stream",
     "text": [
      "evil\n",
      "live\n",
      "Those strings are anagrams\n"
     ]
    }
   ],
   "source": [
    "#Task 4\n",
    "x = list(input())\n",
    "y = list(input())\n",
    "\n",
    "dict1 = {}\n",
    "dict2 = {}\n",
    "\n",
    "\n",
    "for i in x:\n",
    "    c = x.count(i)\n",
    "    dict1[i] = c\n",
    "\n",
    "\n",
    "for i in y:\n",
    "    c = y.count(i)\n",
    "    dict2[i] = c\n",
    "\n",
    "ana1 = sorted(dict1)\n",
    "ana2 = sorted(dict2)\n",
    "\n",
    "if ana1 == ana2:\n",
    "    print('Those strings are anagrams')\n",
    "else:\n",
    "    print('Those strings aren\\'t anagrams')\n"
   ]
  },
  {
   "cell_type": "code",
   "execution_count": 10,
   "metadata": {
    "colab": {
     "base_uri": "https://localhost:8080/"
    },
    "id": "jYO69B73FC5Z",
    "outputId": "553748ef-18ec-492d-86a0-bdda44440fd7"
   },
   "outputs": [
    {
     "name": "stdout",
     "output_type": "stream",
     "text": [
      "Hello, World!\n",
      "4433555555666110966677755531111"
     ]
    }
   ],
   "source": [
    "#Task 5\n",
    "dic1 = {\n",
    "    1 : list('.,?!:'),\n",
    "    2 : list('ABC'),\n",
    "    3 : list('DEF'),\n",
    "    4 : list('GHI'),\n",
    "    5 : list('JKL'),\n",
    "    6 : list('MNO'),\n",
    "    7 : list('PQRS'),\n",
    "    8 : list('TUV'),\n",
    "    9 : list('WXYZ'),\n",
    "    0 : list(' ')\n",
    "}\n",
    "\n",
    "x = input().upper()\n",
    "\n",
    "for j in list(x):\n",
    "    for i in dic1.keys():\n",
    "        if j in dic1[i]:\n",
    "            c = dic1[i].index(j)\n",
    "            l = str(i) * (c + 1)\n",
    "            print(l,end='')\n",
    "        else:\n",
    "            pass\n"
   ]
  }
 ],
 "metadata": {
  "colab": {
   "collapsed_sections": [],
   "name": "21141060_Rohan_Rahman_04_CSE111_Lab_Assignmen1.ipynb",
   "provenance": []
  },
  "kernelspec": {
   "display_name": "Python 3",
   "language": "python",
   "name": "python3"
  },
  "language_info": {
   "codemirror_mode": {
    "name": "ipython",
    "version": 3
   },
   "file_extension": ".py",
   "mimetype": "text/x-python",
   "name": "python",
   "nbconvert_exporter": "python",
   "pygments_lexer": "ipython3",
   "version": "3.8.5"
  }
 },
 "nbformat": 4,
 "nbformat_minor": 1
}
