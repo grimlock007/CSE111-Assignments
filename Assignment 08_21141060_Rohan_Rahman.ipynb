{
  "nbformat": 4,
  "nbformat_minor": 0,
  "metadata": {
    "colab": {
      "name": "21141060_Rohan_Rahman_04_CSE111_Lab_Assignment8.ipynb",
      "provenance": [],
      "collapsed_sections": []
    },
    "kernelspec": {
      "name": "python3",
      "display_name": "Python 3"
    },
    "language_info": {
      "name": "python"
    }
  },
  "cells": [
    {
      "cell_type": "code",
      "metadata": {
        "id": "Xae7nGKHLZYd"
      },
      "source": [
        "#ID: 21141060\n",
        "#Section: 04\n",
        "#Name: Rohan Rahman\n",
        "#Assignment: 8"
      ],
      "execution_count": null,
      "outputs": []
    },
    {
      "cell_type": "code",
      "metadata": {
        "colab": {
          "base_uri": "https://localhost:8080/"
        },
        "id": "JW1wNkosLeVK",
        "outputId": "31f31d77-73ab-4aa6-c15c-72ea95b3f722"
      },
      "source": [
        "#Task 1\n",
        "\n",
        "class RealNumber:\n",
        "\n",
        "    def __init__(self, r=0):\n",
        "        self.__realValue = r\n",
        "\n",
        "    def getRealValue(self):\n",
        "        return self.__realValue\n",
        "\n",
        "    def setRealValue(self, r):\n",
        "        self.__realValue = r\n",
        "\n",
        "    def __str__(self):\n",
        "        return 'RealPart: ' + str(self.getRealValue())\n",
        "\n",
        "class ComplexNumber(RealNumber):\n",
        "    def __init__(self,r=1.0,i=1.0):\n",
        "        super().__init__(float(r))\n",
        "        self.imaginaryValue = float(i)\n",
        "\n",
        "    def __str__(self):\n",
        "        return f\"{super().__str__()}\\nImaginary Part: {self.imaginaryValue}\"\n",
        "\n",
        "\n",
        "\n",
        "cn1 = ComplexNumber()\n",
        "print(cn1)\n",
        "print('---------')\n",
        "cn2 = ComplexNumber(5, 7)\n",
        "print(cn2)"
      ],
      "execution_count": null,
      "outputs": [
        {
          "output_type": "stream",
          "name": "stdout",
          "text": [
            "RealPart: 1.0\n",
            "Imaginary Part: 1.0\n",
            "---------\n",
            "RealPart: 5.0\n",
            "Imaginary Part: 7.0\n"
          ]
        }
      ]
    },
    {
      "cell_type": "code",
      "metadata": {
        "id": "jtwLtki3kMXz"
      },
      "source": [
        "#Task 2\n"
      ],
      "execution_count": 8,
      "outputs": []
    },
    {
      "cell_type": "code",
      "metadata": {
        "colab": {
          "base_uri": "https://localhost:8080/"
        },
        "id": "SK-CLSJRkMsx",
        "outputId": "1ed6949f-81ec-4f4b-a955-afa75358ee1b"
      },
      "source": [
        "#Task 3\n",
        "\n",
        "class Account:\n",
        "    def __init__(self, balance):\n",
        "        self._balance = balance\n",
        "\n",
        "    def getBalance(self):\n",
        "        return self._balance\n",
        "\n",
        "class CheckingAccount(Account):\n",
        "    numberOfAccount = 0\n",
        "    def __init__(self,balance=0.0):\n",
        "        super().__init__(balance)\n",
        "        CheckingAccount.numberOfAccount += 1\n",
        "\n",
        "\n",
        "    def __str__(self):\n",
        "        s = str(super().getBalance())\n",
        "        return s\n",
        "\n",
        "print('Number of Checking Accounts: ', CheckingAccount.numberOfAccount)\n",
        "print(CheckingAccount())\n",
        "print(CheckingAccount(100.00))\n",
        "print(CheckingAccount(200.00))\n",
        "print('Number of Checking Accounts: ', CheckingAccount.numberOfAccount)\n"
      ],
      "execution_count": null,
      "outputs": [
        {
          "output_type": "stream",
          "name": "stdout",
          "text": [
            "Number of Checking Accounts:  0\n",
            "0.0\n",
            "100.0\n",
            "200.0\n",
            "Number of Checking Accounts:  3\n"
          ]
        }
      ]
    },
    {
      "cell_type": "code",
      "metadata": {
        "colab": {
          "base_uri": "https://localhost:8080/"
        },
        "id": "PPEoZ3ZusUKf",
        "outputId": "70e8ea9e-e2cb-4968-c20f-ae92110491b4"
      },
      "source": [
        "#Task 4\n",
        "\n",
        "class Fruit:\n",
        "    def __init__(self, formalin=False, name=''):\n",
        "        self.__formalin = formalin\n",
        "        self.name = name\n",
        "\n",
        "    def getName(self):\n",
        "        return self.name\n",
        "\n",
        "    def hasFormalin(self):\n",
        "        return self.__formalin\n",
        "\n",
        "\n",
        "class testFruit:\n",
        "    def test(self, f):\n",
        "        print('----Printing Detail----')\n",
        "        if f.hasFormalin():\n",
        "            print('Do not eat the', f.getName(), '.')\n",
        "            print(f)\n",
        "        else:\n",
        "            print('Eat the', f.getName(), '.')\n",
        "            print(f)\n",
        "\n",
        "\n",
        "class Mango(Fruit):\n",
        "    def __init__(self,formalin = True,name = \"Mango\"):\n",
        "        super().__init__(formalin,name)\n",
        "\n",
        "    def __str__(self):\n",
        "        return f\"{self.name}es are bad for you\"\n",
        "\n",
        "class Jackfruit(Mango):\n",
        "    def __init__(self, formalin= False, name=\"Jackfruit\"):\n",
        "        super().__init__(formalin, name)\n",
        "\n",
        "    def __str__(self):\n",
        "        return f\"{self.name}s are good for you\"\n",
        "\n",
        "m = Mango()\n",
        "j = Jackfruit()\n",
        "t1 = testFruit()\n",
        "t1.test(m)\n",
        "t1.test(j)\n"
      ],
      "execution_count": null,
      "outputs": [
        {
          "output_type": "stream",
          "name": "stdout",
          "text": [
            "----Printing Detail----\n",
            "Do not eat the Mango .\n",
            "Mangoes are bad for you\n",
            "----Printing Detail----\n",
            "Eat the Jackfruit .\n",
            "Jackfruits are good for you\n"
          ]
        }
      ]
    },
    {
      "cell_type": "code",
      "metadata": {
        "colab": {
          "base_uri": "https://localhost:8080/"
        },
        "id": "nzNaz-FFxJAp",
        "outputId": "51a2cb07-685c-4fac-e2b8-49661f156c18"
      },
      "source": [
        "#Task 5\n",
        "\n",
        "class Exam:\n",
        "    def __init__(self,marks):\n",
        "        self.marks = marks\n",
        "        self.time = 60\n",
        "    def examSyllabus(self):\n",
        "        return \"Maths , English\"\n",
        "    def examParts(self):\n",
        "        return \"Part 1 - Maths\\nPart 2 - English\\n\"\n",
        "\n",
        "class ScienceExam(Exam):\n",
        "    def __init__(self,marks,time,*args):\n",
        "        super().__init__(marks)\n",
        "        self.time = time\n",
        "        self.args = args\n",
        "\n",
        "    def examSyllabus(self):\n",
        "        s = ''\n",
        "        s += f\"{super().examSyllabus()} , \"\n",
        "        str = ' , '.join(self.args)\n",
        "        s += str\n",
        "        return s\n",
        "\n",
        "    def examParts(self):\n",
        "        x = {}\n",
        "        s = ''\n",
        "        s += f\"{super().examParts()}\"\n",
        "        for i in range(len(self.args)):\n",
        "            a = f\"Part {i+3} - {self.args[i]}\\n\"\n",
        "            s += a\n",
        "        return s\n",
        "\n",
        "    def __str__(self):\n",
        "        return f\"Marks: {self.marks} Time: {self.time} Number of Parts: {2+len(self.args)}\"\n",
        "\n",
        "\n",
        "engineering = ScienceExam(100,90,\"Physics\",\"HigherMaths\")\n",
        "print(engineering)\n",
        "print('----------------------------------')\n",
        "print(engineering.examSyllabus())\n",
        "print(engineering.examParts())\n",
        "print('==================================')\n",
        "architecture = ScienceExam(100,120,\"Physics\",\"HigherMaths\",\"Drawing\")\n",
        "print(architecture)\n",
        "print('----------------------------------')\n",
        "print(architecture.examSyllabus())\n",
        "print(architecture.examParts())\n"
      ],
      "execution_count": null,
      "outputs": [
        {
          "output_type": "stream",
          "name": "stdout",
          "text": [
            "Marks: 100 Time: 90 Number of Parts: 4\n",
            "----------------------------------\n",
            "Maths , English , Physics , HigherMaths\n",
            "Part 1 - Maths\n",
            "Part 2 - English\n",
            "Part 3 - Physics\n",
            "Part 4 - HigherMaths\n",
            "\n",
            "==================================\n",
            "Marks: 100 Time: 120 Number of Parts: 5\n",
            "----------------------------------\n",
            "Maths , English , Physics , HigherMaths , Drawing\n",
            "Part 1 - Maths\n",
            "Part 2 - English\n",
            "Part 3 - Physics\n",
            "Part 4 - HigherMaths\n",
            "Part 5 - Drawing\n",
            "\n"
          ]
        }
      ]
    },
    {
      "cell_type": "code",
      "metadata": {
        "id": "H_ajc7Ku0xYW",
        "colab": {
          "base_uri": "https://localhost:8080/"
        },
        "outputId": "b3791791-bf60-458a-fcbb-21d9a5f71c33"
      },
      "source": [
        "#Task 6\n",
        "\n",
        "class Shape3D:\n",
        "    pi = 3.14159\n",
        "    def __init__(self, name = 'Default', radius = 0):\n",
        "        self._area = 0\n",
        "        self._name = name\n",
        "        self._height = 'No need'\n",
        "        self._radius = radius\n",
        "\n",
        "    def calc_surface_area(self):\n",
        "        return 2 * Shape3D.pi * self._radius\n",
        "\n",
        "    def __str__(self):\n",
        "        return \"Radius: \"+str(self._radius)\n",
        "\n",
        "class Sphere(Shape3D):\n",
        "    def __init__(self,_name,radius):\n",
        "        super().__init__(_name,radius)\n",
        "        print(f\"Shape Name: {self._name}, Area Formula: 4 * pi * r * r\")\n",
        "\n",
        "    def calc_surface_area(self):\n",
        "        return 4 * Shape3D.pi * self._radius * self._radius\n",
        "\n",
        "    def __str__(self):\n",
        "        s = super().__str__()\n",
        "        s += f\", Height: {self._height} \\nArea: {self.calc_surface_area()}\"\n",
        "        return s\n",
        "\n",
        "class Cylinder(Shape3D):\n",
        "    def __init__(self,_name,radius,height):\n",
        "        super().__init__(_name,radius)\n",
        "        self.height = height\n",
        "        print(f\"Shape Name: {self._name}, Area Formula: 2 * pi * r * (r + h)\")\n",
        "\n",
        "    def calc_surface_area(self):\n",
        "        return 2 * Shape3D.pi * self._radius * (self._radius + self.height)\n",
        "\n",
        "    def __str__(self):\n",
        "        s = super().__str__()\n",
        "        s += f\", Height: {self.height} \\nArea: {self.calc_surface_area()}\"\n",
        "        return s\n",
        "\n",
        "sph = Sphere('Sphere', 5)\n",
        "print('----------------------------------')\n",
        "sph.calc_surface_area()\n",
        "print(sph)\n",
        "print('==================================')\n",
        "cyl = Cylinder('Cylinder', 5, 10)\n",
        "print('----------------------------------')\n",
        "cyl.calc_surface_area()\n",
        "print(cyl)"
      ],
      "execution_count": null,
      "outputs": [
        {
          "output_type": "stream",
          "name": "stdout",
          "text": [
            "Shape Name: Sphere, Area Formula: 4 * pi * r * r\n",
            "----------------------------------\n",
            "Radius: 5, Height: No need \n",
            "Area: 314.159\n",
            "==================================\n",
            "Shape Name: Cylinder, Area Formula: 2 * pi * r * (r + h)\n",
            "----------------------------------\n",
            "Radius: 5, Height: 10 \n",
            "Area: 471.2385\n"
          ]
        }
      ]
    },
    {
      "cell_type": "code",
      "metadata": {
        "colab": {
          "base_uri": "https://localhost:8080/"
        },
        "id": "vdf3uPuDMrdY",
        "outputId": "6816854d-9065-45f0-8c1a-0ef3a4231fc5"
      },
      "source": [
        "#Task 7\n",
        "\n",
        "class PokemonBasic:\n",
        "    def __init__(self, name = 'Default', hp = 0, weakness = 'None', type = 'Unknown'):\n",
        "        self.name = name\n",
        "        self.hit_point = hp\n",
        "        self.weakness = weakness\n",
        "        self.type = type\n",
        "    def get_type(self):\n",
        "        return 'Main type: ' + self.type\n",
        "    def get_move(self):\n",
        "        return 'Basic move: ' + 'Quick Attack'\n",
        "    def __str__(self):\n",
        "        return \"Name: \" + self.name + \", HP: \" + str(self.hit_point) + \", Weakness: \" + self.weakness\n",
        "\n",
        "class PokemonExtra(PokemonBasic):\n",
        "    def __init__(self,name,hp,weakness,type,type2=None,other=None):\n",
        "        super().__init__(name, hp, weakness, type)\n",
        "        self.type2 = type2\n",
        "        self.other = other\n",
        "\n",
        "    def get_type(self):\n",
        "        s = 'Main type: ' + self.type\n",
        "        if self.type2 == None:\n",
        "            pass\n",
        "        else:\n",
        "            s += ', Secondary Type: ' + self.type2\n",
        "        return s\n",
        "    def get_move(self):\n",
        "        s = super().get_move()\n",
        "        if self.other == None:\n",
        "            pass\n",
        "        else:\n",
        "\n",
        "            x = \", \".join(self.other)\n",
        "            s += f\"\\nSecondary Attack: {x}\"\n",
        "        return s\n",
        "\n",
        "\n",
        "    def __str__(self):\n",
        "        return \"Name: \" + self.name + \", HP: \" + str(self.hit_point) + \", Weakness: \" + self.weakness\n",
        "\n",
        "print('\\n------------Basic Info:--------------')\n",
        "pk = PokemonBasic()\n",
        "print(pk)\n",
        "print(pk.get_type())\n",
        "print(pk.get_move())\n",
        "print('\\n------------Pokemon 1 Info:-------------')\n",
        "charmander = PokemonExtra('Charmander', 39, 'Water', 'Fire')\n",
        "print(charmander)\n",
        "print(charmander.get_type())\n",
        "print(charmander.get_move())\n",
        "print('\\n------------Pokemon 2 Info:-------------')\n",
        "charizard = PokemonExtra('Charizard', 78, 'Water','Fire', 'Flying', ('Fire Spin', 'Fire Blaze'))\n",
        "print(charizard)\n",
        "print(charizard.get_type())\n",
        "print(charizard.get_move())"
      ],
      "execution_count": 1,
      "outputs": [
        {
          "output_type": "stream",
          "name": "stdout",
          "text": [
            "\n",
            "------------Basic Info:--------------\n",
            "Name: Default, HP: 0, Weakness: None\n",
            "Main type: Unknown\n",
            "Basic move: Quick Attack\n",
            "\n",
            "------------Pokemon 1 Info:-------------\n",
            "Name: Charmander, HP: 39, Weakness: Water\n",
            "Main type: Fire\n",
            "Basic move: Quick Attack\n",
            "\n",
            "------------Pokemon 2 Info:-------------\n",
            "Name: Charizard, HP: 78, Weakness: Water\n",
            "Main type: Fire, Secondary Type: Flying\n",
            "Basic move: Quick Attack\n",
            "Secondary Attack: Fire Spin, Fire Blaze\n"
          ]
        }
      ]
    },
    {
      "cell_type": "code",
      "metadata": {
        "colab": {
          "base_uri": "https://localhost:8080/"
        },
        "id": "8Gpu7f2OPIk1",
        "outputId": "0e751ee5-c902-4587-d60b-868b40577942"
      },
      "source": [
        "#Task 8\n",
        "\n",
        "class Team:\n",
        "    def __init__(self, name):\n",
        "        self.name = 'default'\n",
        "        self.total_player = 5\n",
        "    def info(self):\n",
        "        print('We love sports')\n",
        "\n",
        "class FootBallTeam(Team):\n",
        "    def __init__(self,name):\n",
        "        super().__init__(name)\n",
        "        self.name = name\n",
        "        self.total_player = 11\n",
        "\n",
        "    def info(self):\n",
        "        print(f'Our name is {self.name}')\n",
        "        print('We play Football')\n",
        "        return super().info()\n",
        "\n",
        "class CricketTeam(Team):\n",
        "    def __init__(self,name):\n",
        "        super().__init__(name)\n",
        "        self.name = name\n",
        "        self.total_player = 11\n",
        "\n",
        "\n",
        "    def info(self):\n",
        "        print(f'Our name is {self.name}')\n",
        "        print('We play Cricket')\n",
        "        return super().info()\n",
        "\n",
        "\n",
        "class Team_test:\n",
        "    def check(self, tm):\n",
        "        print(\"=========================\")\n",
        "        print(\"Total Player:\", tm.total_player)\n",
        "        tm.info()\n",
        "\n",
        "f = FootBallTeam(\"Argentina\")\n",
        "c = CricketTeam(\"Bangladesh\")\n",
        "test = Team_test()\n",
        "test.check(f)\n",
        "test.check(c)"
      ],
      "execution_count": 2,
      "outputs": [
        {
          "output_type": "stream",
          "name": "stdout",
          "text": [
            "=========================\n",
            "Total Player: 11\n",
            "Our name is Argentina\n",
            "We play Football\n",
            "We love sports\n",
            "=========================\n",
            "Total Player: 11\n",
            "Our name is Bangladesh\n",
            "We play Cricket\n",
            "We love sports\n"
          ]
        }
      ]
    },
    {
      "cell_type": "code",
      "metadata": {
        "colab": {
          "base_uri": "https://localhost:8080/"
        },
        "id": "Y18w67d0WXe9",
        "outputId": "a5672268-02ee-4d44-df6f-fc1420d84bcc"
      },
      "source": [
        "#Task 9\n",
        "\n",
        "class Pokemon:\n",
        "    def __init__(self, p):\n",
        "        self.pokemon = p\n",
        "        self.pokemon_type = \"Needs to be set\"\n",
        "        self.pokemon_weakness = \"Needs to be set\"\n",
        "    def kind(self):\n",
        "        return self.pokemon_type\n",
        "    def weakness(self):\n",
        "        return self.pokemon_weakness\n",
        "    def what_am_i(self):\n",
        "        print(\"I am a Pokemon.\")\n",
        "\n",
        "class Pikachu(Pokemon):\n",
        "    def __init__(self):\n",
        "        super().__init__(self)\n",
        "        self.pokemon = 'Pikachu'\n",
        "        self.pokemon_type = 'Electric'\n",
        "        self.pokemon_weakness = 'Ground'\n",
        "\n",
        "    def what_am_i(self):\n",
        "        super().what_am_i()\n",
        "        print(f'I am {self.pokemon}.')\n",
        "\n",
        "class Charmander(Pokemon):\n",
        "    def __init__(self):\n",
        "        super().__init__(self)\n",
        "        self.pokemon = 'Charmander'\n",
        "        self.pokemon_type = 'Fire'\n",
        "        self.pokemon_weakness = 'Water, Ground and Rock'\n",
        "\n",
        "    def what_am_i(self):\n",
        "        super().what_am_i()\n",
        "        print(f'I am {self.pokemon}.')\n",
        "\n",
        "\n",
        "\n",
        "pk1 = Pikachu()\n",
        "print(\"Pokemon:\", pk1.pokemon)\n",
        "print(\"Type:\", pk1.kind())\n",
        "print(\"Weakness:\", pk1.weakness())\n",
        "pk1.what_am_i()\n",
        "print(\"========================\")\n",
        "c1 = Charmander()\n",
        "print(\"Pokemon:\", c1.pokemon)\n",
        "print(\"Type:\", c1.kind())\n",
        "print(\"Weakness:\", c1.weakness())\n",
        "c1.what_am_i()\n"
      ],
      "execution_count": 3,
      "outputs": [
        {
          "output_type": "stream",
          "name": "stdout",
          "text": [
            "Pokemon: Pikachu\n",
            "Type: Electric\n",
            "Weakness: Ground\n",
            "I am a Pokemon.\n",
            "I am Pikachu.\n",
            "========================\n",
            "Pokemon: Charmander\n",
            "Type: Fire\n",
            "Weakness: Water, Ground and Rock\n",
            "I am a Pokemon.\n",
            "I am Charmander.\n"
          ]
        }
      ]
    },
    {
      "cell_type": "code",
      "metadata": {
        "colab": {
          "base_uri": "https://localhost:8080/"
        },
        "id": "gasv5iAKZnN2",
        "outputId": "5a3fe2ff-28bd-4a5f-d4a6-abd01e6c7df1"
      },
      "source": [
        "#Task 10\n",
        "\n",
        "class Department:\n",
        "    def __init__(self, s):\n",
        "        self.semester = s\n",
        "        self.name = \"Default\"\n",
        "        self.id = -1\n",
        "\n",
        "    def student_info(self):\n",
        "        print(\"Name:\", self.name)\n",
        "        print(\"ID:\", self.id)\n",
        "\n",
        "    def courses(self, c1, c2, c3):\n",
        "        print(\"No courses Approved yet!\")\n",
        "\n",
        "class CSE(Department):\n",
        "    def __init__(self,name,id,semester):\n",
        "        super().__init__(semester)\n",
        "        self.name = name\n",
        "        self.id = id\n",
        "    def student_info(self):\n",
        "        super().student_info()\n",
        "        print(f'Course Approved to this CSE student in {self.semester} semester')\n",
        "\n",
        "    def courses(self, c1, c2, c3):\n",
        "        x = c1,c2,c3\n",
        "        for i in x:\n",
        "            print(f\"{i}\")\n",
        "\n",
        "class EEE(Department):\n",
        "    def __init__(self,name,id,semester):\n",
        "        super().__init__(semester)\n",
        "        self.name = name\n",
        "        self.id = id\n",
        "    def student_info(self):\n",
        "        super().student_info()\n",
        "        print(f'Course Approved to this EEE student in {self.semester} semester')\n",
        "\n",
        "    def courses(self, c1, c2, c3):\n",
        "        x = c1,c2,c3\n",
        "        for i in x:\n",
        "            print(f\"{i}\")\n",
        "\n",
        "\n",
        "s1 = CSE(\"Rahim\", 16101328, \"Spring2016\")\n",
        "s1.student_info()\n",
        "s1.courses(\"CSE110\", \"MAT110\", \"ENG101\")\n",
        "print(\"==================\")\n",
        "s2 = EEE(\"Tanzim\", 18101326, \"Spring2018\")\n",
        "s2.student_info()\n",
        "s2.courses(\"Mat110\", \"PHY111\", \"ENG101\")\n",
        "print(\"==================\")\n",
        "s3 = CSE(\"Rudana\", 18101326, \"Fall2017\")\n",
        "s3.student_info()\n",
        "s3.courses(\"CSE111\", \"PHY101\", \"MAT120\")\n",
        "print(\"==================\")\n",
        "s4 = EEE(\"Zainab\", 19201623, \"Summer2019\")\n",
        "s4.student_info()\n",
        "s4.courses(\"EEE201\", \"PHY112\", \"MAT120\")\n"
      ],
      "execution_count": 5,
      "outputs": [
        {
          "output_type": "stream",
          "name": "stdout",
          "text": [
            "Name: Rahim\n",
            "ID: 16101328\n",
            "Course Approved to this CSE student in Spring2016 semester\n",
            "CSE110\n",
            "MAT110\n",
            "ENG101\n",
            "==================\n",
            "Name: Tanzim\n",
            "ID: 18101326\n",
            "Course Approved to this EEE student in Spring2018 semester\n",
            "Mat110\n",
            "PHY111\n",
            "ENG101\n",
            "==================\n",
            "Name: Rudana\n",
            "ID: 18101326\n",
            "Course Approved to this CSE student in Fall2017 semester\n",
            "CSE111\n",
            "PHY101\n",
            "MAT120\n",
            "==================\n",
            "Name: Zainab\n",
            "ID: 19201623\n",
            "Course Approved to this EEE student in Summer2019 semester\n",
            "EEE201\n",
            "PHY112\n",
            "MAT120\n"
          ]
        }
      ]
    }
  ]
}