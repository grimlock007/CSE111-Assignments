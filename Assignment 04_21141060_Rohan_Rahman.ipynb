{
  "nbformat": 4,
  "nbformat_minor": 0,
  "metadata": {
    "colab": {
      "name": "21141060_Rohan_Rahman_04_CSE111_Lab_Assignmen4.ipynb",
      "provenance": [],
      "collapsed_sections": []
    },
    "kernelspec": {
      "name": "python3",
      "display_name": "Python 3"
    },
    "language_info": {
      "name": "python"
    }
  },
  "cells": [
    {
      "cell_type": "code",
      "metadata": {
        "id": "AiXgLqGh87Xw"
      },
      "source": [
        "#ID: 21141060\n",
        "#Section: 04\n",
        "#Name: Rohan Rahman\n",
        "#Assignment: 4"
      ],
      "execution_count": null,
      "outputs": []
    },
    {
      "cell_type": "code",
      "metadata": {
        "colab": {
          "base_uri": "https://localhost:8080/"
        },
        "id": "maTCIaVM9BNi",
        "outputId": "ca6b7a0c-6c05-4056-bf9b-b6a99d1ee8e6"
      },
      "source": [
        "#Task 1\n",
        "\n",
        "class Calculator:\n",
        "    print(\"Let's calculate!\")\n",
        "    def addition(self,x,y):\n",
        "        print('Result:',x+y)\n",
        "    def substraction(self,x,y):\n",
        "        print('Result:',x-y)\n",
        "    def mutiplication(self,x,y):\n",
        "        print('Result:',x*y)\n",
        "    def divition(self,x,y):\n",
        "        print('Result:',x/y)\n",
        "\n",
        "\n",
        "obj1 = Calculator()\n",
        "\n",
        "first_number = int(input('First Number: '))\n",
        "operator = input('Operator: ')\n",
        "second_number = int(input('Second Number: '))\n",
        "if operator == '+':\n",
        "    obj1.addition(first_number,second_number)\n",
        "elif operator == '-':\n",
        "    obj1.substraction(first_number,second_number)\n",
        "elif operator == '*':\n",
        "    obj1.mutiplication(first_number,second_number)\n",
        "elif operator == '/':\n",
        "    obj1.divition(first_number,second_number)\n",
        "else:\n",
        "    print('Invalid input')"
      ],
      "execution_count": null,
      "outputs": [
        {
          "output_type": "stream",
          "text": [
            "Let's calculate!\n",
            "First Number: 1\n",
            "Operator: +\n",
            "Second Number: 2\n",
            "Result: 3\n"
          ],
          "name": "stdout"
        }
      ]
    },
    {
      "cell_type": "code",
      "metadata": {
        "colab": {
          "base_uri": "https://localhost:8080/"
        },
        "id": "523nyk4XMp1B",
        "outputId": "e28d4ff1-670f-4301-8b7a-7ea62f0b7f63"
      },
      "source": [
        "#Task 2\n",
        "class Customer:\n",
        "    def __init__(self,name):\n",
        "        self.name = name\n",
        "    def greet(self,name=None):\n",
        "        if name==None:\n",
        "            print('Hello!')\n",
        "        else:\n",
        "            print(f'Hello {name}!')\n",
        "    def purchase(self,*args):\n",
        "        print(f'{self.name}, you purchased {len(args)} items(s)')\n",
        "        print(*args)\n",
        "\n",
        "\n",
        "\n",
        "\n",
        "customer_1 = Customer(\"Sam\")\n",
        "customer_1.greet()\n",
        "customer_1.purchase(\"chips\", \"chocolate\", \"orange juice\")\n",
        "print(\"-----------------------------\")\n",
        "customer_2 = Customer(\"David\")\n",
        "customer_2.greet(\"David\")\n",
        "customer_2.purchase(\"orange juice\")"
      ],
      "execution_count": 3,
      "outputs": [
        {
          "output_type": "stream",
          "text": [
            "Hello!\n",
            "Sam, you purchased 3 items(s)\n",
            "chips chocolate orange juice\n",
            "-----------------------------\n",
            "Hello David!\n",
            "David, you purchased 1 items(s)\n",
            "orange juice\n"
          ],
          "name": "stdout"
        }
      ]
    },
    {
      "cell_type": "code",
      "metadata": {
        "id": "qc4G38J6ntND",
        "colab": {
          "base_uri": "https://localhost:8080/"
        },
        "outputId": "06fa038a-deed-4e0d-acb0-4bed49df4a1b"
      },
      "source": [
        "#Task 3\n",
        "\n",
        "class Panda:\n",
        "    def __init__(self,name,gender,age):\n",
        "        self.name = name\n",
        "        self.gender = gender\n",
        "        self.age = age\n",
        "\n",
        "    def sleep(self,x=None):\n",
        "        if x==None:\n",
        "            return f\"{self.name}'s sleep duration is unknown thus should only have bamboo leaves\"\n",
        "        else:\n",
        "            if x>=3 and x<=5:\n",
        "                return f\"{self.name} sleeps {x} hours daily and should have mixed veggies\"\n",
        "            elif x>=6 and x<=8:\n",
        "                return f\"{self.name} sleeps {x} hours daily and should have Eggplant and Tofu\"\n",
        "            elif x>=9 and x<=11:\n",
        "                return f\"{self.name} sleeps {x} hours daily and should have Brocolli Chicken\"\n",
        "\n",
        "panda1 = Panda(\"Kunfu\",\"Male\", 5)\n",
        "panda2 = Panda(\"Pan Pan\",\"Female\",3)\n",
        "panda3 = Panda(\"Ming Ming\",\"Female\",8)\n",
        "print(\"{} is a {} Panda Bear who is {} years old\".format(panda1.name,panda1.gender,panda1.age))\n",
        "print(\"{} is a {} Panda Bear who is {} years old\".format(panda2.name,panda2.gender,panda2.age))\n",
        "print(\"{} is a {} Panda Bear who is {} years old\".format(panda3.name,panda3.gender,panda3.age))\n",
        "print(\"===========================\")\n",
        "print(panda2.sleep(10))\n",
        "print(panda1.sleep(4))\n",
        "print(panda3.sleep())"
      ],
      "execution_count": null,
      "outputs": [
        {
          "output_type": "stream",
          "text": [
            "Kunfu is a Male Panda Bear who is 5 years old\n",
            "Pan Pan is a Female Panda Bear who is 3 years old\n",
            "Ming Ming is a Female Panda Bear who is 8 years old\n",
            "===========================\n",
            "Pan Pan sleeps 10 hours daily and should have Brocolli Chicken\n",
            "Kunfu sleeps 4 hours daily and should have mixed veggies\n",
            "Ming Ming's sleep duration is unknown thus should only have bamboo leaves\n"
          ],
          "name": "stdout"
        }
      ]
    },
    {
      "cell_type": "code",
      "metadata": {
        "colab": {
          "base_uri": "https://localhost:8080/"
        },
        "id": "g6bhaOeVTbD2",
        "outputId": "9bb2026f-33b8-4c7d-aaec-a340bca5a10f"
      },
      "source": [
        "#Task 4\n",
        "\n",
        "class Cat:\n",
        "    def __init__(self,color='White',do='sitting'):\n",
        "        self.color = color\n",
        "        self.do = do\n",
        "    def printCat(self):\n",
        "        print(f'{self.color} Cat is {self.do} ')\n",
        "\n",
        "    def changeColor(self,color):\n",
        "        self.color = color\n",
        "\n",
        "c1 = Cat()\n",
        "c2 = Cat(\"Black\")\n",
        "c3 = Cat(\"Brown\", \"jumping\")\n",
        "c4 = Cat(\"Red\", \"purring\")\n",
        "c1.printCat()\n",
        "c2.printCat()\n",
        "c3.printCat()\n",
        "c4.printCat()\n",
        "c1.changeColor(\"Blue\")\n",
        "c3.changeColor(\"Purple\")\n",
        "c1.printCat()\n",
        "c3.printCat()"
      ],
      "execution_count": null,
      "outputs": [
        {
          "output_type": "stream",
          "text": [
            "White Cat is sitting \n",
            "Black Cat is sitting \n",
            "Brown Cat is jumping \n",
            "Red Cat is purring \n",
            "Blue Cat is sitting \n",
            "Purple Cat is jumping \n"
          ],
          "name": "stdout"
        }
      ]
    },
    {
      "cell_type": "code",
      "metadata": {
        "colab": {
          "base_uri": "https://localhost:8080/"
        },
        "id": "s9A3MDg3ZoXI",
        "outputId": "ca1d38ad-85cb-4ce4-a2f8-33230e6f39b2"
      },
      "source": [
        "#Task 5\n",
        "\n",
        "class Student:\n",
        "    def __init__(self,name='default student'):\n",
        "        self.name = name\n",
        "    def quizcalc(self,x,y=0,z=0):\n",
        "        self.result = (x+y+z)/3\n",
        "    def printdetail(self):\n",
        "        print(f\"Hello {self.name} \\nYour average score is {self.result}\")\n",
        "\n",
        "s1 = Student()\n",
        "s1.quizcalc(10)\n",
        "print('--------------------------------')\n",
        "s1.printdetail()\n",
        "s2 = Student('Harry')\n",
        "s2.quizcalc(10,8)\n",
        "print('--------------------------------')\n",
        "s2.printdetail()\n",
        "s3 = Student('Hermione')\n",
        "s3.quizcalc(10,9,10)\n",
        "print('--------------------------------')\n",
        "s3.printdetail()"
      ],
      "execution_count": null,
      "outputs": [
        {
          "output_type": "stream",
          "text": [
            "--------------------------------\n",
            "Hello default student \n",
            "Your average score is 3.3333333333333335\n",
            "--------------------------------\n",
            "Hello Harry \n",
            "Your average score is 6.0\n",
            "--------------------------------\n",
            "Hello Hermione \n",
            "Your average score is 9.666666666666666\n"
          ],
          "name": "stdout"
        }
      ]
    },
    {
      "cell_type": "code",
      "metadata": {
        "colab": {
          "base_uri": "https://localhost:8080/"
        },
        "id": "MpDtoNji56cz",
        "outputId": "4aaa6866-2dde-4530-95ca-61a37a414af4"
      },
      "source": [
        "#Task 6\n",
        "\n",
        "class Vehicle:\n",
        "    def __init__(self,x=0,y=0):\n",
        "        self.x = x\n",
        "        self.y = y\n",
        "\n",
        "    def print_position(self):\n",
        "        print(f'({self.x}.{self.y})')\n",
        "    def moveUp(self):\n",
        "        self.y = self.y+1\n",
        "    def moveLeft(self):\n",
        "        self.x = self.x-1\n",
        "    def moveDown(self):\n",
        "        self.y = self.y-1\n",
        "    def moveRight(self):\n",
        "        self.x = self.x+1\n",
        "car = Vehicle()\n",
        "car.print_position()\n",
        "car.moveUp()\n",
        "car.print_position()\n",
        "car.moveLeft()\n",
        "car.print_position()\n",
        "car.moveDown()\n",
        "car.print_position()\n",
        "car.moveRight()"
      ],
      "execution_count": null,
      "outputs": [
        {
          "output_type": "stream",
          "text": [
            "(0.0)\n",
            "(0.1)\n",
            "(-1.1)\n",
            "(-1.0)\n"
          ],
          "name": "stdout"
        }
      ]
    },
    {
      "cell_type": "code",
      "metadata": {
        "colab": {
          "base_uri": "https://localhost:8080/"
        },
        "id": "CowRvFiF6XMM",
        "outputId": "58ec5587-85c8-48b3-b5ec-577ccbc93964"
      },
      "source": [
        "#Task 7\n",
        "\n",
        "class Programmer:\n",
        "    def __init__(self,name,language,exp):\n",
        "        self.name = name\n",
        "        self.language = language\n",
        "        self.exp = exp\n",
        "    def printDetails(self):\n",
        "        print(f'Name: {self.name} \\nLanguage: {self.language} \\nExperience:{self.exp}')\n",
        "    def addExp(self,more):\n",
        "        print(f'Updating user experience of {self.name}')\n",
        "        self.exp = self.exp+more\n",
        "\n",
        "\n",
        "p1 = Programmer(\"Ethen Hunt\", \"Java\", 10)\n",
        "p1.printDetails()\n",
        "print('--------------------------')\n",
        "p2 = Programmer(\"James Bond\", \"C++\", 7)\n",
        "p2.printDetails()\n",
        "print('--------------------------')\n",
        "p3 = Programmer(\"Jon Snow\", \"Python\", 4)\n",
        "p3.printDetails()\n",
        "p3.addExp(5)\n",
        "p3.printDetails() "
      ],
      "execution_count": null,
      "outputs": [
        {
          "output_type": "stream",
          "text": [
            "Name: Ethen Hunt \n",
            "Language: Java \n",
            "Experience:10\n",
            "--------------------------\n",
            "Name: James Bond \n",
            "Language: C++ \n",
            "Experience:7\n",
            "--------------------------\n",
            "Name: Jon Snow \n",
            "Language: Python \n",
            "Experience:4\n",
            "Updating user experience of Jon Snow\n",
            "Name: Jon Snow \n",
            "Language: Python \n",
            "Experience:9\n"
          ],
          "name": "stdout"
        }
      ]
    },
    {
      "cell_type": "code",
      "metadata": {
        "colab": {
          "base_uri": "https://localhost:8080/"
        },
        "id": "0f3gsQuMhPxW",
        "outputId": "f9fd817b-c57e-4ef0-d197-ca2503c97ed4"
      },
      "source": [
        "#Task 8\n",
        "\n",
        "class Student:\n",
        "    def __init__(self,name,id,department='CSE'):\n",
        "        self.name = name\n",
        "        self.id = id\n",
        "        self.department = department\n",
        "\n",
        "\n",
        "    def dailyEffort(self,hour):\n",
        "        self.hour = hour\n",
        "\n",
        "    def printDetails(self):\n",
        "        print(f'Name: {self.name} \\nID: {self.id} \\nDepartment:{self.department}')\n",
        "        if self.hour <=2:\n",
        "            print('Suggestion: Should give more effort')\n",
        "        elif self.hour <=4:\n",
        "            print(\"Suggestion: Keep up the good work!\")\n",
        "        else:\n",
        "            print(\"Suggestion: Excellent! Now motivate others.\")\n",
        "\n",
        "\n",
        "harry = Student('Harry Potter', 123)\n",
        "harry.dailyEffort(3)\n",
        "harry.printDetails()\n",
        "print('========================')\n",
        "john = Student(\"John Wick\", 456, \"BBA\")\n",
        "john.dailyEffort(2)\n",
        "john.printDetails()\n",
        "print('========================')\n",
        "naruto = Student(\"Naruto Uzumaki\", 777, \"Ninja\")\n",
        "naruto.dailyEffort(6)\n",
        "naruto.printDetails()\n"
      ],
      "execution_count": null,
      "outputs": [
        {
          "output_type": "stream",
          "text": [
            "Name: Harry Potter \n",
            "ID: 123 \n",
            "Department:CSE\n",
            "Suggestion: Keep up the good work!\n",
            "========================\n",
            "Name: John Wick \n",
            "ID: 456 \n",
            "Department:BBA\n",
            "Suggestion: Should give more effort\n",
            "========================\n",
            "Name: Naruto Uzumaki \n",
            "ID: 777 \n",
            "Department:Ninja\n",
            "Suggestion: Excellent! Now motivate others.\n"
          ],
          "name": "stdout"
        }
      ]
    },
    {
      "cell_type": "code",
      "metadata": {
        "colab": {
          "base_uri": "https://localhost:8080/"
        },
        "id": "Th47CvhShxO8",
        "outputId": "bd1c550d-8fb3-436b-e44e-592d42a33ffe"
      },
      "source": [
        "#Task 9\n",
        "\n",
        "class Patient:\n",
        "    def __init__(self, name, age):\n",
        "        self.name = name\n",
        "        self.age = age\n",
        "\n",
        "    def add_Symptom(self,x,y=None,z=None):\n",
        "        self.x = x\n",
        "        self.y = y\n",
        "        self.z = z\n",
        "\n",
        "    def printPatientDetail(self):\n",
        "        print(f'Name: {self.name} \\nAge: {self.age}')\n",
        "        if self.y == None and self.z ==None:\n",
        "            print(f'Symptoms: {self.x}.')\n",
        "        elif self.y!= None  and self.z==None:\n",
        "            print(f'Symptoms: {self.x}, {self.y}.')\n",
        "        else:\n",
        "            print(f'Symptoms: {self.x}, {self.y} and {self.z}.')\n",
        "\n",
        "p1 = Patient('Thomas', 23)\n",
        "p1.add_Symptom('Headache')\n",
        "p2 = Patient('Carol', 20)\n",
        "p2.add_Symptom('Vomiting', 'Coughing')\n",
        "p3 = Patient('Mike', 25)\n",
        "p3.add_Symptom('Fever', 'Headache', 'Coughing')\n",
        "print(\"=========================\")\n",
        "p1.printPatientDetail()\n",
        "print(\"=========================\")\n",
        "p2.printPatientDetail()\n",
        "print(\"=========================\")\n",
        "p3.printPatientDetail()\n",
        "print(\"=========================\")"
      ],
      "execution_count": null,
      "outputs": [
        {
          "output_type": "stream",
          "text": [
            "=========================\n",
            "Name: Thomas \n",
            "Age: 23\n",
            "Symptoms: Headache.\n",
            "=========================\n",
            "Name: Carol \n",
            "Age: 20\n",
            "Symptoms: Vomiting, Coughing.\n",
            "=========================\n",
            "Name: Mike \n",
            "Age: 25\n",
            "Symptoms: Fever, Headache and Coughing.\n",
            "=========================\n"
          ],
          "name": "stdout"
        }
      ]
    },
    {
      "cell_type": "code",
      "metadata": {
        "colab": {
          "base_uri": "https://localhost:8080/"
        },
        "id": "462wUZOivA_r",
        "outputId": "b7964017-ac42-41f6-dd9b-090b543ad720"
      },
      "source": [
        "#Task 10 \n",
        "\n",
        "class Avengers:\n",
        "    def __init__(self,name,partner):\n",
        "        self.name = name\n",
        "        self.partner = partner\n",
        "    def super_powers(self,power,power2=None):\n",
        "        self.power = power\n",
        "        self.power2 = power2\n",
        "    def printAvengersDetail(self):\n",
        "        print(f'Name: {self.name} \\nPartner: {self.partner}')\n",
        "        if self.power2==None:\n",
        "            print(f'Super powers: {self.power}')\n",
        "        else:\n",
        "            print(f'Super Powers: {self.power}, {self.power2}')\n",
        "\n",
        "\n",
        "a1 = Avengers('Captain America', 'Bucky Barnes')\n",
        "a1.super_powers('Stamina', 'Slowed ageing')\n",
        "a2 = Avengers('Doctor Strange', 'Ancient One')\n",
        "a2.super_powers('Mastery of magic')\n",
        "a3 = Avengers('Iron Man', 'War Machine')\n",
        "a3.super_powers('Genius level intellect', 'Scientist ')\n",
        "print(\"=========================\")\n",
        "a1.printAvengersDetail()\n",
        "print(\"=========================\")\n",
        "a2.printAvengersDetail()\n",
        "print(\"=========================\")\n",
        "a3.printAvengersDetail()\n",
        "print(\"=========================\")\n"
      ],
      "execution_count": null,
      "outputs": [
        {
          "output_type": "stream",
          "text": [
            "=========================\n",
            "Name: Captain America \n",
            "Partner: Bucky Barnes\n",
            "Super Powers: Stamina, Slowed ageing\n",
            "=========================\n",
            "Name: Doctor Strange \n",
            "Partner: Ancient One\n",
            "Super powers: Mastery of magic\n",
            "=========================\n",
            "Name: Iron Man \n",
            "Partner: War Machine\n",
            "Super Powers: Genius level intellect, Scientist \n",
            "=========================\n"
          ],
          "name": "stdout"
        }
      ]
    },
    {
      "cell_type": "code",
      "metadata": {
        "colab": {
          "base_uri": "https://localhost:8080/"
        },
        "id": "Kg1PeKdJ2aWC",
        "outputId": "8ba2d6b2-d6b3-4ed3-8638-e7530f310a66"
      },
      "source": [
        "#Task 11\n",
        "\n",
        "class Shinobi:\n",
        "    def __init__(self,name,rank,missions=0,salary=0):\n",
        "        self.name = name\n",
        "        self.rank = rank\n",
        "        self.missions = missions\n",
        "        self.salary = salary\n",
        "    def calSalary(self,day):\n",
        "        self.missions = self.missions + day\n",
        "        if self.rank == 'Genin':\n",
        "            self.salary = self.missions * 50\n",
        "        elif self.rank == 'Chunin':\n",
        "            self.salary = self.missions * 100\n",
        "        else:\n",
        "            self.salary = self.missions * 500\n",
        "\n",
        "    def changeRank(self,rank):\n",
        "        self.rank = rank\n",
        "    def printInfo(self):\n",
        "        print(f'Name: {self.name} \\nRank: {self.rank} \\nNumber of mission: {self.missions} \\nSalary: {self.salary}')\n",
        "\n",
        "naruto = Shinobi(\"Naruto\", \"Genin\")\n",
        "naruto.calSalary(5)\n",
        "naruto.printInfo()\n",
        "print('====================')\n",
        "shikamaru = Shinobi('Shikamaru', \"Genin\")\n",
        "shikamaru.printInfo()\n",
        "shikamaru.changeRank(\"Chunin\")\n",
        "shikamaru.calSalary(10)\n",
        "shikamaru.printInfo()\n",
        "print('====================')\n",
        "neiji = Shinobi(\"Neiji\", \"Jonin\")\n",
        "neiji.calSalary(5)\n",
        "neiji.printInfo()"
      ],
      "execution_count": null,
      "outputs": [
        {
          "output_type": "stream",
          "text": [
            "Name: Naruto \n",
            "Rank: Genin \n",
            "Number of mission: 5 \n",
            "Salary: 250\n",
            "====================\n",
            "Name: Shikamaru \n",
            "Rank: Genin \n",
            "Number of mission: 0 \n",
            "Salary: 0\n",
            "Name: Shikamaru \n",
            "Rank: Chunin \n",
            "Number of mission: 10 \n",
            "Salary: 1000\n",
            "====================\n",
            "Name: Neiji \n",
            "Rank: Jonin \n",
            "Number of mission: 5 \n",
            "Salary: 2500\n"
          ],
          "name": "stdout"
        }
      ]
    },
    {
      "cell_type": "code",
      "metadata": {
        "colab": {
          "base_uri": "https://localhost:8080/"
        },
        "id": "isAsAQM8b9It",
        "outputId": "d8b19666-c55a-4439-932f-b09f6b7b8855"
      },
      "source": [
        "#Task 12\n",
        "\n",
        "class ParcelKoro:\n",
        "\n",
        "    def __init__(self,name = None, product_weight = None,total_fee=None):\n",
        "        self.name = name\n",
        "        self.product_weight = product_weight\n",
        "        self.total_fee = total_fee\n",
        "\n",
        "    def calculateFee(self,location = None):\n",
        "        self.location = location\n",
        "        if self.location == None:\n",
        "            location_charge = 50\n",
        "        else:\n",
        "            location_charge = 100\n",
        "\n",
        "        if self.product_weight == None:\n",
        "            pass\n",
        "        else:\n",
        "            self.total_fee = (self.product_weight * 20) + location_charge\n",
        "\n",
        "    def printDetails(self):\n",
        "        if self.name == None:\n",
        "            print(\"Customer Name: No name set\")\n",
        "        else:\n",
        "            print(f\"Customer Name: {self.name}\")\n",
        "        if self.product_weight == None:\n",
        "            print(\"Product Weight: 0\")\n",
        "        else:\n",
        "            print(f\"Product Weight: {self.product_weight}\")\n",
        "        print(f\"Total Fee: {self.total_fee}\")\n",
        "\n",
        "print(\"**********************\")\n",
        "p1 = ParcelKoro()\n",
        "p1.calculateFee()\n",
        "p1.printDetails()\n",
        "print(\"**********************\")\n",
        "p2 = ParcelKoro('Bob The Builder')\n",
        "p2.calculateFee()\n",
        "p2.printDetails()\n",
        "print(\"----------------------------\")\n",
        "p2.product_weight = 15\n",
        "p2.calculateFee()\n",
        "p2.printDetails()\n",
        "print(\"**********************\")\n",
        "p3 = ParcelKoro('Dora The Explorer', 10)\n",
        "p3.calculateFee('Dhanmondi')\n",
        "p3.printDetails()"
      ],
      "execution_count": null,
      "outputs": [
        {
          "output_type": "stream",
          "text": [
            "**********************\n",
            "Customer Name: No name set\n",
            "Product Weight: 0\n",
            "Total Fee: None\n",
            "**********************\n",
            "Customer Name: Bob The Builder\n",
            "Product Weight: 0\n",
            "Total Fee: None\n",
            "----------------------------\n",
            "Customer Name: Bob The Builder\n",
            "Product Weight: 15\n",
            "Total Fee: 350\n",
            "**********************\n",
            "Customer Name: Dora The Explorer\n",
            "Product Weight: 10\n",
            "Total Fee: 300\n"
          ],
          "name": "stdout"
        }
      ]
    },
    {
      "cell_type": "code",
      "metadata": {
        "colab": {
          "base_uri": "https://localhost:8080/"
        },
        "id": "AQmbuMi8UMDS",
        "outputId": "88ec92bb-e58e-4472-8b26-a358b93cee29"
      },
      "source": [
        "#Task 13\n",
        "\n",
        "class Batsman:\n",
        "    def __init__(self,*args):\n",
        "        if len(args) == 1:\n",
        "            pass\n",
        "        elif len(args) == 2:\n",
        "            self.name = 'New Batsman'\n",
        "            self.runs = args[0]\n",
        "            self.balls = args[1]\n",
        "        elif len(args) == 3:\n",
        "            self.name = args[0]\n",
        "            self.runs = args[1]\n",
        "            self.balls = args[2]\n",
        "\n",
        "    def printCareerStatistics(self):\n",
        "        print(f'Name: {self.name}')\n",
        "        print(f\"Runs Scored: {self.runs}, Balls Faced: {self.balls}\")\n",
        "\n",
        "    def battingStrikeRate(self):\n",
        "        return self.runs/self.balls*100\n",
        "    def setName(self,name):\n",
        "        self.name = name\n",
        "\n",
        "b1 = Batsman(6101, 7380)\n",
        "b1.printCareerStatistics()\n",
        "print(\"============================\")\n",
        "b2 = Batsman(\"Liton Das\", 678, 773)\n",
        "b2.printCareerStatistics()\n",
        "print(\"----------------------------\")\n",
        "print(b2.battingStrikeRate())\n",
        "print(\"============================\")\n",
        "b1.setName(\"Shakib Al Hasan\")\n",
        "b1.printCareerStatistics()\n",
        "print(\"----------------------------\")\n",
        "print(b1.battingStrikeRate())\n",
        "\n"
      ],
      "execution_count": null,
      "outputs": [
        {
          "output_type": "stream",
          "text": [
            "Name: New Batsman\n",
            "Runs Scored: 6101, Balls Faced: 7380\n",
            "============================\n",
            "Name: Liton Das\n",
            "Runs Scored: 678, Balls Faced: 773\n",
            "----------------------------\n",
            "87.71021992238033\n",
            "============================\n",
            "Name: Shakib Al Hasan\n",
            "Runs Scored: 6101, Balls Faced: 7380\n",
            "----------------------------\n",
            "82.66937669376694\n"
          ],
          "name": "stdout"
        }
      ]
    },
    {
      "cell_type": "code",
      "metadata": {
        "colab": {
          "base_uri": "https://localhost:8080/"
        },
        "id": "hkligFJqmR-p",
        "outputId": "c2ecc036-bb2d-4fea-8f0e-28bfb2537dc6"
      },
      "source": [
        "#Task 14\n",
        "\n",
        "class EPL_Team:\n",
        "    def __init__(self,name,song=None,title=0):\n",
        "        self.name = name\n",
        "        self.song = song\n",
        "        self.title = title\n",
        "    def showClubInfo(self):\n",
        "        if self.song == None:\n",
        "            return f\"Name: {self.name} \\nSong: No Slogan \\nTotal No of title: {self.title}\"\n",
        "        else:\n",
        "            return f\"Name: {self.name} \\nSong: {self.song} \\nTotal No of title: {self.title}\"\n",
        "    def increaseTitle(self):\n",
        "        self.title = self.title + 1\n",
        "    def changeSong(self,song):\n",
        "        self.song = song\n",
        "\n",
        "\n",
        "\n",
        "manu = EPL_Team('Manchester United', 'Glory Glory Man United')\n",
        "chelsea = EPL_Team('Chelsea')\n",
        "print('===================')\n",
        "print(manu.showClubInfo())\n",
        "print('##################')\n",
        "manu.increaseTitle()\n",
        "print(manu.showClubInfo())\n",
        "print('===================')\n",
        "print(chelsea.showClubInfo())\n",
        "chelsea.changeSong('Keep the blue flag flying high')\n",
        "print(chelsea.showClubInfo())"
      ],
      "execution_count": null,
      "outputs": [
        {
          "output_type": "stream",
          "text": [
            "===================\n",
            "Name: Manchester United \n",
            "Song: Glory Glory Man United \n",
            "Total No of title: 0\n",
            "##################\n",
            "Name: Manchester United \n",
            "Song: Glory Glory Man United \n",
            "Total No of title: 1\n",
            "===================\n",
            "Name: Chelsea \n",
            "Song: No Slogan \n",
            "Total No of title: 0\n",
            "Name: Chelsea \n",
            "Song: Keep the blue flag flying high \n",
            "Total No of title: 0\n"
          ],
          "name": "stdout"
        }
      ]
    },
    {
      "cell_type": "code",
      "metadata": {
        "colab": {
          "base_uri": "https://localhost:8080/"
        },
        "id": "vpBCAV9Bp6BK",
        "outputId": "2406f081-81ea-4f35-cb67-c63e788abf62"
      },
      "source": [
        "#Task 15\n",
        "\n",
        "\n",
        "class Account:\n",
        "    def __init__(self,name='Default Account',balance=0.0):\n",
        "        self.name = name\n",
        "        self.balance = float(balance)\n",
        "\n",
        "\n",
        "    def details(self):\n",
        "        return f\"{self.name}\\n{self.balance}\"\n",
        "\n",
        "    def withdraw(self,x):\n",
        "        self.x = x\n",
        "        a = self.balance*(30.7/100)\n",
        "        c = self.balance-self.x\n",
        "        if a < c:\n",
        "            if c > 0:\n",
        "                print(c)\n",
        "            else:\n",
        "                print(\"Sorry, Withdraw unsuccessful! The account balance after deducting withdraw amount is equal to or less than minimum\")\n",
        "        else:\n",
        "            print(\n",
        "                \"Sorry, Withdraw unsuccessful! The account balance after deducting withdraw amount is equal to or less than minimum\")\n",
        "\n",
        "\n",
        "a1 = Account()\n",
        "print(a1.details())\n",
        "print(\"------------------------\")\n",
        "a1.name = \"Oliver\"\n",
        "a1.balance = 10000.0\n",
        "print(a1.details())\n",
        "print(\"------------------------\")\n",
        "a2 = Account(\"Liam\")\n",
        "print(a2.details())\n",
        "print(\"------------------------\")\n",
        "a3 = Account(\"Noah\",400)\n",
        "print(a3.details())\n",
        "print(\"------------------------\")\n",
        "a1.withdraw(6930)\n",
        "print(\"------------------------\")\n",
        "a2.withdraw(600)\n",
        "print(\"------------------------\")\n",
        "a1.withdraw(6929)"
      ],
      "execution_count": null,
      "outputs": [
        {
          "output_type": "stream",
          "text": [
            "Default Account\n",
            "0.0\n",
            "------------------------\n",
            "Oliver\n",
            "10000.0\n",
            "------------------------\n",
            "Liam\n",
            "0.0\n",
            "------------------------\n",
            "Noah\n",
            "400.0\n",
            "------------------------\n",
            "Sorry, Withdraw unsuccessful! The account balance after deducting withdraw amount is equal to or less than minimum\n",
            "------------------------\n",
            "Sorry, Withdraw unsuccessful! The account balance after deducting withdraw amount is equal to or less than minimum\n",
            "------------------------\n",
            "3071.0\n"
          ],
          "name": "stdout"
        }
      ]
    },
    {
      "cell_type": "code",
      "metadata": {
        "colab": {
          "base_uri": "https://localhost:8080/"
        },
        "id": "YoRhAFw5wW5N",
        "outputId": "90cc6c91-9913-46b4-8c81-fce04749af7c"
      },
      "source": [
        "#Task 16\n",
        "\n",
        "class  Author:\n",
        "    def __init__(self,*info):\n",
        "        if len(info)==1:\n",
        "            self.name = info[0]\n",
        "            self.book1 = None\n",
        "            self.book2 = None\n",
        "            self.book3 = None\n",
        "        elif len(info)==3:\n",
        "            self.name = info[0]\n",
        "            self.book1 = info[1]\n",
        "            self.book2 = info[2]\n",
        "            self.book3 = None\n",
        "        else:\n",
        "            self.name = 'Default'\n",
        "            self.book1 = None\n",
        "            self.book2 = None\n",
        "            self.book3 = None\n",
        "\n",
        "    def addBooks(self,*info):\n",
        "        if len(info)==2:\n",
        "            self.book1 = info[0]\n",
        "            self.book2 = info[1]\n",
        "        if len(info)==3:\n",
        "            self.book1 = info[0]\n",
        "            self.book2 = info[1]\n",
        "            self.book3 = info[2]\n",
        "    def changeName(self,name):\n",
        "        self.name = name\n",
        "\n",
        "    def printDetails(self):\n",
        "        if self.book3 == None:\n",
        "            print(f'Author Name: {self.name}')\n",
        "            print('-------')\n",
        "            print(f\"List of Books: \\n{self.book1} \\n{self.book2}\")\n",
        "        else:\n",
        "            print(f'Author Name: {self.name}')\n",
        "            print('-------')\n",
        "            print(f\"List of Books: \\n{self.book1} \\n{self.book2} \\n{self.book3}\")\n",
        "\n",
        "\n",
        "\n",
        "\n",
        "auth1 = Author('Humayun Ahmed')\n",
        "auth1.addBooks('Deyal', 'Megher Opor Bari')\n",
        "auth1.printDetails()\n",
        "print('===================')\n",
        "auth2 = Author()\n",
        "print(auth2.name)\n",
        "auth2.changeName('Mario Puzo')\n",
        "auth2.addBooks('The Godfather', 'Omerta', 'The Sicilian')\n",
        "print('===================')\n",
        "auth2.printDetails()\n",
        "print('===================')\n",
        "auth3 = Author('Paolo Coelho', 'The Alchemist', 'The Fifth Mountain')\n",
        "auth3.printDetails()"
      ],
      "execution_count": 2,
      "outputs": [
        {
          "output_type": "stream",
          "text": [
            "Author Name: Humayun Ahmed\n",
            "-------\n",
            "List of Books: \n",
            "Deyal \n",
            "Megher Opor Bari\n",
            "===================\n",
            "Default\n",
            "===================\n",
            "Author Name: Mario Puzo\n",
            "-------\n",
            "List of Books: \n",
            "The Godfather \n",
            "Omerta \n",
            "The Sicilian\n",
            "===================\n",
            "Author Name: Paolo Coelho\n",
            "-------\n",
            "List of Books: \n",
            "The Alchemist \n",
            "The Fifth Mountain\n"
          ],
          "name": "stdout"
        }
      ]
    }
  ]
}